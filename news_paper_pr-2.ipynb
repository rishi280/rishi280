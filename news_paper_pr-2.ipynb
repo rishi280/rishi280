{
 "cells": [
  {
   "cell_type": "markdown",
   "metadata": {},
   "source": [
    "### Simple Linear Regression\n",
    "Simple linear regression is a statistical method used to model the relationship between two quantitative variables. It is one of the most basic and commonly used types of predictive analysis. The two main components in simple linear regression are:\n",
    "\n",
    "1. **Independent Variable (Predictor):** This is the variable that you use to make predictions. It is assumed to be the cause or the input which influences the dependent variable.\n",
    "\n",
    "2. **Dependent Variable (Outcome):** This is the variable that you try to predict or explain. It is assumed to be affected by the independent variable.\n",
    "\n",
    "The goal of simple linear regression is to find a linear relationship between these two variables. This relationship is often represented as a straight line, known as the regression line, which can be written in the basic form:\n",
    "$$\n",
    "Y = \\beta_0 + \\beta_1X + \\epsilon \\\n",
    "$$\n",
    "Here:\n",
    "- 𝛽0 is the dependent variable and is the intercept of the line on the Y-axis.\n",
    "- 𝛽1 is the independent variable is the slope of the line\n",
    "\n",
    "- 𝜖  represents the error term, accounting for the variability in \\( Y \\) that cannot be explained by the linear relationship with \\(X\\).\n",
    "\n",
    "### Steps in Simple Linear Regression\n",
    "\n",
    "**1. Model Estimation:**\n",
    "   - You estimate the coefficients 𝛽0 and 𝛽1  using the method of least squares, which minimizes the sum of the squared differences (residuals) between observed values and the values predicted by the model.\n",
    "\n",
    "**2. Prediction:**\n",
    "   - Once the model coefficients are estimated, you can use the model to predict values of \\( Y \\) based on new values of \\( X \\).\n",
    "\n",
    "**3. Evaluation:**\n",
    "   - Assess the model’s effectiveness using metrics like R-squared, which measures the proportion of the variability in \\( Y \\) that can be explained by \\( X \\) using your model. Higher R-squared values indicate a better fit of the model to the data.\n",
    "\n",
    "### Assumptions\n",
    "Simple linear regression makes several key assumptions:\n",
    "- **Linearity:** The relationship between \\( X \\) and \\( Y \\) is linear.\n",
    "- **Independence:** Observations are independent of each other.\n",
    "- **Homoscedasticity:** The variance of residual is the same for any value of \\( X \\).\n",
    "- **Normality:** the residuals (errors), which are the differences between the observed values\n",
    "and the predicted values from the regression model, should be normally distributed. \n",
    "\n",
    "\n",
    "\n",
    "\n"
   ]
  },
  {
   "cell_type": "markdown",
   "metadata": {},
   "source": [
    "### Method of Ordinary Least Squares"
   ]
  },
  {
   "cell_type": "markdown",
   "metadata": {},
   "source": [
    "In Ordinary Least Squares (OLS) regression, the coefficients of the linear equation are derived by minimizing the sum of the squares of the residuals, which are the differences between observed values and the values predicted by the model.Here's a brief step-by-step explanation of how these coefficients are derived:\n",
    "\n",
    "Step 1: Objective Function\n",
    "The objective of OLS is to minimize the sum of the squared residuals. The sum of the squared residuals can be defined as:\n",
    "\n",
    "$$\n",
    "\\text{Minimize } S = \\sum_{i=1}^n (y_i - \\hat{y}_i)^2          \n",
    "$$\n",
    "\n",
    "SSR = Sum of Squared Residuals\n",
    "\n",
    "Step 2: Linear Model\n",
    "$$\n",
    "\\hat{y}_i = \\beta_0 + \\beta_1 x_i\n",
    "$$\n",
    "\n",
    "Step 3: Substituting and Expanding\n",
    "$$\n",
    "S = \\sum_{i=1}^n (y_i - (\\beta_0 + \\beta_1 x_i))^2\n",
    "$$\n",
    "\n",
    "Step 4: Minimizing S\n",
    "- For 𝛽0:\n",
    "$$\n",
    "\\frac{\\partial S}{\\partial \\beta_0} = -2 \\sum_{i=1}^n (y_i - \\beta_0 - \\beta_1 x_i) = 0\n",
    "$$\n",
    "- For 𝛽1:\n",
    "$$\n",
    "\\frac{\\partial S}{\\partial \\beta_1} = -2 \\sum_{i=1}^n x_i(y_i - \\beta_0 - \\beta_1 x_i) = 0\n",
    "$$\n",
    "\n",
    "Step 5: Solving the Normal Equations\n",
    "\n",
    "- For 𝛽1: (slope) is calculated as:\n",
    "$$\n",
    "\\beta_1 = \\frac{\\sum_{i=1}^n (x_i - \\overline{x})(y_i - \\overline{y})}{\\sum_{i=1}^n (x_i - \\overline{x})^2}\n",
    "$$\n",
    "- For 𝛽0: (intercept) is calculated using:\n",
    "$$\n",
    "\\beta_0 = \\overline{y} - \\beta_1 \\overline{x}\n",
    "$$\n",
    "\n",
    "\n"
   ]
  },
  {
   "cell_type": "markdown",
   "metadata": {
    "id": "UgLPjlenOAZU"
   },
   "source": [
    "## Import Libraries and Data Set"
   ]
  },
  {
   "cell_type": "code",
   "execution_count": 6,
   "metadata": {
    "colab": {
     "base_uri": "https://localhost:8080/",
     "height": 263
    },
    "executionInfo": {
     "elapsed": 15185,
     "status": "ok",
     "timestamp": 1670478337531,
     "user": {
      "displayName": "ANANYA GHOSH",
      "userId": "07636421272032694955"
     },
     "user_tz": -330
    },
    "id": "t87KFKu3OAZV",
    "outputId": "2cd75a7e-2917-42bc-e576-969d42efaeef",
    "scrolled": true
   },
   "outputs": [],
   "source": [
    "import pandas as pd\n",
    "import numpy as np\n",
    "import seaborn as sns\n",
    "import matplotlib.pyplot as plt\n",
    "import statsmodels.formula.api as smf"
   ]
  },
  {
   "cell_type": "code",
   "execution_count": 7,
   "metadata": {},
   "outputs": [
    {
     "data": {
      "text/html": [
       "<div>\n",
       "<style scoped>\n",
       "    .dataframe tbody tr th:only-of-type {\n",
       "        vertical-align: middle;\n",
       "    }\n",
       "\n",
       "    .dataframe tbody tr th {\n",
       "        vertical-align: top;\n",
       "    }\n",
       "\n",
       "    .dataframe thead th {\n",
       "        text-align: right;\n",
       "    }\n",
       "</style>\n",
       "<table border=\"1\" class=\"dataframe\">\n",
       "  <thead>\n",
       "    <tr style=\"text-align: right;\">\n",
       "      <th></th>\n",
       "      <th>Newspaper</th>\n",
       "      <th>daily</th>\n",
       "      <th>sunday</th>\n",
       "    </tr>\n",
       "  </thead>\n",
       "  <tbody>\n",
       "    <tr>\n",
       "      <th>0</th>\n",
       "      <td>Baltimore Sun</td>\n",
       "      <td>391.952</td>\n",
       "      <td>488.506</td>\n",
       "    </tr>\n",
       "    <tr>\n",
       "      <th>1</th>\n",
       "      <td>Boston Globe</td>\n",
       "      <td>516.981</td>\n",
       "      <td>798.298</td>\n",
       "    </tr>\n",
       "    <tr>\n",
       "      <th>2</th>\n",
       "      <td>Boston Herald</td>\n",
       "      <td>355.628</td>\n",
       "      <td>235.084</td>\n",
       "    </tr>\n",
       "    <tr>\n",
       "      <th>3</th>\n",
       "      <td>Charlotte Observer</td>\n",
       "      <td>238.555</td>\n",
       "      <td>299.451</td>\n",
       "    </tr>\n",
       "    <tr>\n",
       "      <th>4</th>\n",
       "      <td>Chicago Sun Times</td>\n",
       "      <td>537.780</td>\n",
       "      <td>559.093</td>\n",
       "    </tr>\n",
       "    <tr>\n",
       "      <th>5</th>\n",
       "      <td>Chicago Tribune</td>\n",
       "      <td>733.775</td>\n",
       "      <td>1133.249</td>\n",
       "    </tr>\n",
       "    <tr>\n",
       "      <th>6</th>\n",
       "      <td>Cincinnati Enquirer</td>\n",
       "      <td>198.832</td>\n",
       "      <td>348.744</td>\n",
       "    </tr>\n",
       "    <tr>\n",
       "      <th>7</th>\n",
       "      <td>Denver Post</td>\n",
       "      <td>252.624</td>\n",
       "      <td>417.779</td>\n",
       "    </tr>\n",
       "    <tr>\n",
       "      <th>8</th>\n",
       "      <td>Des Moines Register</td>\n",
       "      <td>206.204</td>\n",
       "      <td>344.522</td>\n",
       "    </tr>\n",
       "    <tr>\n",
       "      <th>9</th>\n",
       "      <td>Hartford Courant</td>\n",
       "      <td>231.177</td>\n",
       "      <td>323.084</td>\n",
       "    </tr>\n",
       "    <tr>\n",
       "      <th>10</th>\n",
       "      <td>Houston Chronicle</td>\n",
       "      <td>449.755</td>\n",
       "      <td>620.752</td>\n",
       "    </tr>\n",
       "    <tr>\n",
       "      <th>11</th>\n",
       "      <td>Kansas City Star</td>\n",
       "      <td>288.571</td>\n",
       "      <td>423.305</td>\n",
       "    </tr>\n",
       "    <tr>\n",
       "      <th>12</th>\n",
       "      <td>Los Angeles Daily  News</td>\n",
       "      <td>185.736</td>\n",
       "      <td>202.614</td>\n",
       "    </tr>\n",
       "    <tr>\n",
       "      <th>13</th>\n",
       "      <td>Los Angeles Times</td>\n",
       "      <td>1164.388</td>\n",
       "      <td>1531.527</td>\n",
       "    </tr>\n",
       "    <tr>\n",
       "      <th>14</th>\n",
       "      <td>Miami Herald</td>\n",
       "      <td>444.581</td>\n",
       "      <td>553.479</td>\n",
       "    </tr>\n",
       "    <tr>\n",
       "      <th>15</th>\n",
       "      <td>Minneapolis Star Tribune</td>\n",
       "      <td>412.871</td>\n",
       "      <td>685.975</td>\n",
       "    </tr>\n",
       "    <tr>\n",
       "      <th>16</th>\n",
       "      <td>New Orleans Times-Picayune</td>\n",
       "      <td>272.280</td>\n",
       "      <td>324.241</td>\n",
       "    </tr>\n",
       "    <tr>\n",
       "      <th>17</th>\n",
       "      <td>New York Daily News</td>\n",
       "      <td>781.796</td>\n",
       "      <td>983.240</td>\n",
       "    </tr>\n",
       "    <tr>\n",
       "      <th>18</th>\n",
       "      <td>New York Times</td>\n",
       "      <td>1209.225</td>\n",
       "      <td>1762.015</td>\n",
       "    </tr>\n",
       "    <tr>\n",
       "      <th>19</th>\n",
       "      <td>Newsday</td>\n",
       "      <td>825.512</td>\n",
       "      <td>960.308</td>\n",
       "    </tr>\n",
       "    <tr>\n",
       "      <th>20</th>\n",
       "      <td>Omaha World Herald</td>\n",
       "      <td>223.748</td>\n",
       "      <td>284.611</td>\n",
       "    </tr>\n",
       "    <tr>\n",
       "      <th>21</th>\n",
       "      <td>Orange County Register</td>\n",
       "      <td>354.843</td>\n",
       "      <td>407.760</td>\n",
       "    </tr>\n",
       "    <tr>\n",
       "      <th>22</th>\n",
       "      <td>Philadelphia Inquirer</td>\n",
       "      <td>515.523</td>\n",
       "      <td>982.663</td>\n",
       "    </tr>\n",
       "    <tr>\n",
       "      <th>23</th>\n",
       "      <td>Pittsburgh Press</td>\n",
       "      <td>220.465</td>\n",
       "      <td>557.000</td>\n",
       "    </tr>\n",
       "    <tr>\n",
       "      <th>24</th>\n",
       "      <td>Portland Oregonian</td>\n",
       "      <td>337.672</td>\n",
       "      <td>440.923</td>\n",
       "    </tr>\n",
       "    <tr>\n",
       "      <th>25</th>\n",
       "      <td>Providence Journal-Bulletin</td>\n",
       "      <td>197.120</td>\n",
       "      <td>268.060</td>\n",
       "    </tr>\n",
       "    <tr>\n",
       "      <th>26</th>\n",
       "      <td>Rochester Democrat &amp; Chronicle</td>\n",
       "      <td>133.239</td>\n",
       "      <td>262.048</td>\n",
       "    </tr>\n",
       "    <tr>\n",
       "      <th>27</th>\n",
       "      <td>Rocky Mountain News</td>\n",
       "      <td>374.009</td>\n",
       "      <td>432.502</td>\n",
       "    </tr>\n",
       "    <tr>\n",
       "      <th>28</th>\n",
       "      <td>Sacramento Bee</td>\n",
       "      <td>273.844</td>\n",
       "      <td>338.355</td>\n",
       "    </tr>\n",
       "    <tr>\n",
       "      <th>29</th>\n",
       "      <td>San Francisco Chronicle</td>\n",
       "      <td>570.364</td>\n",
       "      <td>704.322</td>\n",
       "    </tr>\n",
       "    <tr>\n",
       "      <th>30</th>\n",
       "      <td>St. Louis Post-Dispatch</td>\n",
       "      <td>391.286</td>\n",
       "      <td>585.681</td>\n",
       "    </tr>\n",
       "    <tr>\n",
       "      <th>31</th>\n",
       "      <td>St. Paul Pioneer Press</td>\n",
       "      <td>201.860</td>\n",
       "      <td>267.781</td>\n",
       "    </tr>\n",
       "    <tr>\n",
       "      <th>32</th>\n",
       "      <td>Tampa Tribune</td>\n",
       "      <td>321.626</td>\n",
       "      <td>408.343</td>\n",
       "    </tr>\n",
       "    <tr>\n",
       "      <th>33</th>\n",
       "      <td>Washington Post</td>\n",
       "      <td>838.902</td>\n",
       "      <td>1165.567</td>\n",
       "    </tr>\n",
       "  </tbody>\n",
       "</table>\n",
       "</div>"
      ],
      "text/plain": [
       "                         Newspaper     daily    sunday\n",
       "0                    Baltimore Sun   391.952   488.506\n",
       "1                     Boston Globe   516.981   798.298\n",
       "2                    Boston Herald   355.628   235.084\n",
       "3               Charlotte Observer   238.555   299.451\n",
       "4                Chicago Sun Times   537.780   559.093\n",
       "5                  Chicago Tribune   733.775  1133.249\n",
       "6              Cincinnati Enquirer   198.832   348.744\n",
       "7                      Denver Post   252.624   417.779\n",
       "8              Des Moines Register   206.204   344.522\n",
       "9                 Hartford Courant   231.177   323.084\n",
       "10               Houston Chronicle   449.755   620.752\n",
       "11                Kansas City Star   288.571   423.305\n",
       "12         Los Angeles Daily  News   185.736   202.614\n",
       "13               Los Angeles Times  1164.388  1531.527\n",
       "14                    Miami Herald   444.581   553.479\n",
       "15        Minneapolis Star Tribune   412.871   685.975\n",
       "16      New Orleans Times-Picayune   272.280   324.241\n",
       "17             New York Daily News   781.796   983.240\n",
       "18                  New York Times  1209.225  1762.015\n",
       "19                         Newsday   825.512   960.308\n",
       "20              Omaha World Herald   223.748   284.611\n",
       "21          Orange County Register   354.843   407.760\n",
       "22           Philadelphia Inquirer   515.523   982.663\n",
       "23                Pittsburgh Press   220.465   557.000\n",
       "24              Portland Oregonian   337.672   440.923\n",
       "25     Providence Journal-Bulletin   197.120   268.060\n",
       "26  Rochester Democrat & Chronicle   133.239   262.048\n",
       "27             Rocky Mountain News   374.009   432.502\n",
       "28                  Sacramento Bee   273.844   338.355\n",
       "29         San Francisco Chronicle   570.364   704.322\n",
       "30         St. Louis Post-Dispatch   391.286   585.681\n",
       "31          St. Paul Pioneer Press   201.860   267.781\n",
       "32                   Tampa Tribune   321.626   408.343\n",
       "33                 Washington Post   838.902  1165.567"
      ]
     },
     "execution_count": 7,
     "metadata": {},
     "output_type": "execute_result"
    }
   ],
   "source": [
    "data1 = pd.read_csv(\"NewspaperData.csv\")\n",
    "data1"
   ]
  },
  {
   "cell_type": "code",
   "execution_count": 8,
   "metadata": {
    "id": "mXafhMBfisup"
   },
   "outputs": [
    {
     "data": {
      "text/html": [
       "<div>\n",
       "<style scoped>\n",
       "    .dataframe tbody tr th:only-of-type {\n",
       "        vertical-align: middle;\n",
       "    }\n",
       "\n",
       "    .dataframe tbody tr th {\n",
       "        vertical-align: top;\n",
       "    }\n",
       "\n",
       "    .dataframe thead th {\n",
       "        text-align: right;\n",
       "    }\n",
       "</style>\n",
       "<table border=\"1\" class=\"dataframe\">\n",
       "  <thead>\n",
       "    <tr style=\"text-align: right;\">\n",
       "      <th></th>\n",
       "      <th>Newspaper</th>\n",
       "      <th>daily</th>\n",
       "      <th>sunday</th>\n",
       "    </tr>\n",
       "  </thead>\n",
       "  <tbody>\n",
       "    <tr>\n",
       "      <th>0</th>\n",
       "      <td>Baltimore Sun</td>\n",
       "      <td>391.952</td>\n",
       "      <td>488.506</td>\n",
       "    </tr>\n",
       "    <tr>\n",
       "      <th>1</th>\n",
       "      <td>Boston Globe</td>\n",
       "      <td>516.981</td>\n",
       "      <td>798.298</td>\n",
       "    </tr>\n",
       "    <tr>\n",
       "      <th>2</th>\n",
       "      <td>Boston Herald</td>\n",
       "      <td>355.628</td>\n",
       "      <td>235.084</td>\n",
       "    </tr>\n",
       "    <tr>\n",
       "      <th>3</th>\n",
       "      <td>Charlotte Observer</td>\n",
       "      <td>238.555</td>\n",
       "      <td>299.451</td>\n",
       "    </tr>\n",
       "    <tr>\n",
       "      <th>4</th>\n",
       "      <td>Chicago Sun Times</td>\n",
       "      <td>537.780</td>\n",
       "      <td>559.093</td>\n",
       "    </tr>\n",
       "    <tr>\n",
       "      <th>5</th>\n",
       "      <td>Chicago Tribune</td>\n",
       "      <td>733.775</td>\n",
       "      <td>1133.249</td>\n",
       "    </tr>\n",
       "    <tr>\n",
       "      <th>6</th>\n",
       "      <td>Cincinnati Enquirer</td>\n",
       "      <td>198.832</td>\n",
       "      <td>348.744</td>\n",
       "    </tr>\n",
       "    <tr>\n",
       "      <th>7</th>\n",
       "      <td>Denver Post</td>\n",
       "      <td>252.624</td>\n",
       "      <td>417.779</td>\n",
       "    </tr>\n",
       "    <tr>\n",
       "      <th>8</th>\n",
       "      <td>Des Moines Register</td>\n",
       "      <td>206.204</td>\n",
       "      <td>344.522</td>\n",
       "    </tr>\n",
       "    <tr>\n",
       "      <th>9</th>\n",
       "      <td>Hartford Courant</td>\n",
       "      <td>231.177</td>\n",
       "      <td>323.084</td>\n",
       "    </tr>\n",
       "    <tr>\n",
       "      <th>10</th>\n",
       "      <td>Houston Chronicle</td>\n",
       "      <td>449.755</td>\n",
       "      <td>620.752</td>\n",
       "    </tr>\n",
       "    <tr>\n",
       "      <th>11</th>\n",
       "      <td>Kansas City Star</td>\n",
       "      <td>288.571</td>\n",
       "      <td>423.305</td>\n",
       "    </tr>\n",
       "    <tr>\n",
       "      <th>12</th>\n",
       "      <td>Los Angeles Daily  News</td>\n",
       "      <td>185.736</td>\n",
       "      <td>202.614</td>\n",
       "    </tr>\n",
       "    <tr>\n",
       "      <th>13</th>\n",
       "      <td>Los Angeles Times</td>\n",
       "      <td>1164.388</td>\n",
       "      <td>1531.527</td>\n",
       "    </tr>\n",
       "    <tr>\n",
       "      <th>14</th>\n",
       "      <td>Miami Herald</td>\n",
       "      <td>444.581</td>\n",
       "      <td>553.479</td>\n",
       "    </tr>\n",
       "    <tr>\n",
       "      <th>15</th>\n",
       "      <td>Minneapolis Star Tribune</td>\n",
       "      <td>412.871</td>\n",
       "      <td>685.975</td>\n",
       "    </tr>\n",
       "    <tr>\n",
       "      <th>16</th>\n",
       "      <td>New Orleans Times-Picayune</td>\n",
       "      <td>272.280</td>\n",
       "      <td>324.241</td>\n",
       "    </tr>\n",
       "    <tr>\n",
       "      <th>17</th>\n",
       "      <td>New York Daily News</td>\n",
       "      <td>781.796</td>\n",
       "      <td>983.240</td>\n",
       "    </tr>\n",
       "    <tr>\n",
       "      <th>18</th>\n",
       "      <td>New York Times</td>\n",
       "      <td>1209.225</td>\n",
       "      <td>1762.015</td>\n",
       "    </tr>\n",
       "    <tr>\n",
       "      <th>19</th>\n",
       "      <td>Newsday</td>\n",
       "      <td>825.512</td>\n",
       "      <td>960.308</td>\n",
       "    </tr>\n",
       "    <tr>\n",
       "      <th>20</th>\n",
       "      <td>Omaha World Herald</td>\n",
       "      <td>223.748</td>\n",
       "      <td>284.611</td>\n",
       "    </tr>\n",
       "    <tr>\n",
       "      <th>21</th>\n",
       "      <td>Orange County Register</td>\n",
       "      <td>354.843</td>\n",
       "      <td>407.760</td>\n",
       "    </tr>\n",
       "    <tr>\n",
       "      <th>22</th>\n",
       "      <td>Philadelphia Inquirer</td>\n",
       "      <td>515.523</td>\n",
       "      <td>982.663</td>\n",
       "    </tr>\n",
       "    <tr>\n",
       "      <th>23</th>\n",
       "      <td>Pittsburgh Press</td>\n",
       "      <td>220.465</td>\n",
       "      <td>557.000</td>\n",
       "    </tr>\n",
       "    <tr>\n",
       "      <th>24</th>\n",
       "      <td>Portland Oregonian</td>\n",
       "      <td>337.672</td>\n",
       "      <td>440.923</td>\n",
       "    </tr>\n",
       "    <tr>\n",
       "      <th>25</th>\n",
       "      <td>Providence Journal-Bulletin</td>\n",
       "      <td>197.120</td>\n",
       "      <td>268.060</td>\n",
       "    </tr>\n",
       "    <tr>\n",
       "      <th>26</th>\n",
       "      <td>Rochester Democrat &amp; Chronicle</td>\n",
       "      <td>133.239</td>\n",
       "      <td>262.048</td>\n",
       "    </tr>\n",
       "    <tr>\n",
       "      <th>27</th>\n",
       "      <td>Rocky Mountain News</td>\n",
       "      <td>374.009</td>\n",
       "      <td>432.502</td>\n",
       "    </tr>\n",
       "    <tr>\n",
       "      <th>28</th>\n",
       "      <td>Sacramento Bee</td>\n",
       "      <td>273.844</td>\n",
       "      <td>338.355</td>\n",
       "    </tr>\n",
       "    <tr>\n",
       "      <th>29</th>\n",
       "      <td>San Francisco Chronicle</td>\n",
       "      <td>570.364</td>\n",
       "      <td>704.322</td>\n",
       "    </tr>\n",
       "    <tr>\n",
       "      <th>30</th>\n",
       "      <td>St. Louis Post-Dispatch</td>\n",
       "      <td>391.286</td>\n",
       "      <td>585.681</td>\n",
       "    </tr>\n",
       "    <tr>\n",
       "      <th>31</th>\n",
       "      <td>St. Paul Pioneer Press</td>\n",
       "      <td>201.860</td>\n",
       "      <td>267.781</td>\n",
       "    </tr>\n",
       "    <tr>\n",
       "      <th>32</th>\n",
       "      <td>Tampa Tribune</td>\n",
       "      <td>321.626</td>\n",
       "      <td>408.343</td>\n",
       "    </tr>\n",
       "    <tr>\n",
       "      <th>33</th>\n",
       "      <td>Washington Post</td>\n",
       "      <td>838.902</td>\n",
       "      <td>1165.567</td>\n",
       "    </tr>\n",
       "  </tbody>\n",
       "</table>\n",
       "</div>"
      ],
      "text/plain": [
       "                         Newspaper     daily    sunday\n",
       "0                    Baltimore Sun   391.952   488.506\n",
       "1                     Boston Globe   516.981   798.298\n",
       "2                    Boston Herald   355.628   235.084\n",
       "3               Charlotte Observer   238.555   299.451\n",
       "4                Chicago Sun Times   537.780   559.093\n",
       "5                  Chicago Tribune   733.775  1133.249\n",
       "6              Cincinnati Enquirer   198.832   348.744\n",
       "7                      Denver Post   252.624   417.779\n",
       "8              Des Moines Register   206.204   344.522\n",
       "9                 Hartford Courant   231.177   323.084\n",
       "10               Houston Chronicle   449.755   620.752\n",
       "11                Kansas City Star   288.571   423.305\n",
       "12         Los Angeles Daily  News   185.736   202.614\n",
       "13               Los Angeles Times  1164.388  1531.527\n",
       "14                    Miami Herald   444.581   553.479\n",
       "15        Minneapolis Star Tribune   412.871   685.975\n",
       "16      New Orleans Times-Picayune   272.280   324.241\n",
       "17             New York Daily News   781.796   983.240\n",
       "18                  New York Times  1209.225  1762.015\n",
       "19                         Newsday   825.512   960.308\n",
       "20              Omaha World Herald   223.748   284.611\n",
       "21          Orange County Register   354.843   407.760\n",
       "22           Philadelphia Inquirer   515.523   982.663\n",
       "23                Pittsburgh Press   220.465   557.000\n",
       "24              Portland Oregonian   337.672   440.923\n",
       "25     Providence Journal-Bulletin   197.120   268.060\n",
       "26  Rochester Democrat & Chronicle   133.239   262.048\n",
       "27             Rocky Mountain News   374.009   432.502\n",
       "28                  Sacramento Bee   273.844   338.355\n",
       "29         San Francisco Chronicle   570.364   704.322\n",
       "30         St. Louis Post-Dispatch   391.286   585.681\n",
       "31          St. Paul Pioneer Press   201.860   267.781\n",
       "32                   Tampa Tribune   321.626   408.343\n",
       "33                 Washington Post   838.902  1165.567"
      ]
     },
     "execution_count": 8,
     "metadata": {},
     "output_type": "execute_result"
    }
   ],
   "source": [
    "data1"
   ]
  },
  {
   "cell_type": "code",
   "execution_count": 88,
   "metadata": {
    "colab": {
     "base_uri": "https://localhost:8080/"
    },
    "executionInfo": {
     "elapsed": 335,
     "status": "ok",
     "timestamp": 1670478365491,
     "user": {
      "displayName": "ANANYA GHOSH",
      "userId": "07636421272032694955"
     },
     "user_tz": -330
    },
    "id": "gPex3jqaon5p",
    "outputId": "e919d015-4dce-4c62-82c3-a59bb6ff2bda"
   },
   "outputs": [
    {
     "name": "stdout",
     "output_type": "stream",
     "text": [
      "<class 'pandas.core.frame.DataFrame'>\n",
      "RangeIndex: 34 entries, 0 to 33\n",
      "Data columns (total 5 columns):\n",
      " #   Column     Non-Null Count  Dtype  \n",
      "---  ------     --------------  -----  \n",
      " 0   Newspaper  34 non-null     object \n",
      " 1   daily      34 non-null     float64\n",
      " 2   sunday     34 non-null     float64\n",
      " 3   Y_hat      34 non-null     float64\n",
      " 4   residuals  34 non-null     float64\n",
      "dtypes: float64(4), object(1)\n",
      "memory usage: 1.5+ KB\n"
     ]
    }
   ],
   "source": [
    "data1.info()"
   ]
  },
  {
   "cell_type": "code",
   "execution_count": 90,
   "metadata": {},
   "outputs": [
    {
     "data": {
      "text/html": [
       "<div>\n",
       "<style scoped>\n",
       "    .dataframe tbody tr th:only-of-type {\n",
       "        vertical-align: middle;\n",
       "    }\n",
       "\n",
       "    .dataframe tbody tr th {\n",
       "        vertical-align: top;\n",
       "    }\n",
       "\n",
       "    .dataframe thead th {\n",
       "        text-align: right;\n",
       "    }\n",
       "</style>\n",
       "<table border=\"1\" class=\"dataframe\">\n",
       "  <thead>\n",
       "    <tr style=\"text-align: right;\">\n",
       "      <th></th>\n",
       "      <th>daily</th>\n",
       "      <th>sunday</th>\n",
       "      <th>Y_hat</th>\n",
       "      <th>residuals</th>\n",
       "    </tr>\n",
       "  </thead>\n",
       "  <tbody>\n",
       "    <tr>\n",
       "      <th>count</th>\n",
       "      <td>34.000000</td>\n",
       "      <td>34.000000</td>\n",
       "      <td>34.000000</td>\n",
       "      <td>3.400000e+01</td>\n",
       "    </tr>\n",
       "    <tr>\n",
       "      <th>mean</th>\n",
       "      <td>430.962471</td>\n",
       "      <td>591.202412</td>\n",
       "      <td>591.202412</td>\n",
       "      <td>4.263256e-13</td>\n",
       "    </tr>\n",
       "    <tr>\n",
       "      <th>std</th>\n",
       "      <td>269.211470</td>\n",
       "      <td>376.418051</td>\n",
       "      <td>360.666580</td>\n",
       "      <td>1.077505e+02</td>\n",
       "    </tr>\n",
       "    <tr>\n",
       "      <th>min</th>\n",
       "      <td>133.239000</td>\n",
       "      <td>202.614000</td>\n",
       "      <td>192.337885</td>\n",
       "      <td>-2.551917e+02</td>\n",
       "    </tr>\n",
       "    <tr>\n",
       "      <th>25%</th>\n",
       "      <td>233.021500</td>\n",
       "      <td>327.769500</td>\n",
       "      <td>326.017972</td>\n",
       "      <td>-5.556931e+01</td>\n",
       "    </tr>\n",
       "    <tr>\n",
       "      <th>50%</th>\n",
       "      <td>355.235500</td>\n",
       "      <td>436.712500</td>\n",
       "      <td>489.749872</td>\n",
       "      <td>-2.089312e+01</td>\n",
       "    </tr>\n",
       "    <tr>\n",
       "      <th>75%</th>\n",
       "      <td>516.616500</td>\n",
       "      <td>699.735250</td>\n",
       "      <td>705.954379</td>\n",
       "      <td>6.273241e+01</td>\n",
       "    </tr>\n",
       "    <tr>\n",
       "      <th>max</th>\n",
       "      <td>1209.225000</td>\n",
       "      <td>1762.015000</td>\n",
       "      <td>1633.852208</td>\n",
       "      <td>2.781736e+02</td>\n",
       "    </tr>\n",
       "  </tbody>\n",
       "</table>\n",
       "</div>"
      ],
      "text/plain": [
       "             daily       sunday        Y_hat     residuals\n",
       "count    34.000000    34.000000    34.000000  3.400000e+01\n",
       "mean    430.962471   591.202412   591.202412  4.263256e-13\n",
       "std     269.211470   376.418051   360.666580  1.077505e+02\n",
       "min     133.239000   202.614000   192.337885 -2.551917e+02\n",
       "25%     233.021500   327.769500   326.017972 -5.556931e+01\n",
       "50%     355.235500   436.712500   489.749872 -2.089312e+01\n",
       "75%     516.616500   699.735250   705.954379  6.273241e+01\n",
       "max    1209.225000  1762.015000  1633.852208  2.781736e+02"
      ]
     },
     "execution_count": 90,
     "metadata": {},
     "output_type": "execute_result"
    }
   ],
   "source": [
    "data1.describe()"
   ]
  },
  {
   "cell_type": "code",
   "execution_count": 92,
   "metadata": {},
   "outputs": [
    {
     "data": {
      "text/plain": [
       "Newspaper    0\n",
       "daily        0\n",
       "sunday       0\n",
       "Y_hat        0\n",
       "residuals    0\n",
       "dtype: int64"
      ]
     },
     "execution_count": 92,
     "metadata": {},
     "output_type": "execute_result"
    }
   ],
   "source": [
    "data1.isnull().sum()"
   ]
  },
  {
   "cell_type": "markdown",
   "metadata": {
    "id": "whOIvCAzOAZZ"
   },
   "source": [
    "# Correlation"
   ]
  },
  {
   "cell_type": "code",
   "execution_count": 95,
   "metadata": {},
   "outputs": [
    {
     "data": {
      "text/plain": [
       "0.9581543140785462"
      ]
     },
     "execution_count": 95,
     "metadata": {},
     "output_type": "execute_result"
    }
   ],
   "source": [
    "data1[\"daily\"].corr(data1[\"sunday\"])"
   ]
  },
  {
   "cell_type": "code",
   "execution_count": 97,
   "metadata": {},
   "outputs": [
    {
     "data": {
      "text/html": [
       "<div>\n",
       "<style scoped>\n",
       "    .dataframe tbody tr th:only-of-type {\n",
       "        vertical-align: middle;\n",
       "    }\n",
       "\n",
       "    .dataframe tbody tr th {\n",
       "        vertical-align: top;\n",
       "    }\n",
       "\n",
       "    .dataframe thead th {\n",
       "        text-align: right;\n",
       "    }\n",
       "</style>\n",
       "<table border=\"1\" class=\"dataframe\">\n",
       "  <thead>\n",
       "    <tr style=\"text-align: right;\">\n",
       "      <th></th>\n",
       "      <th>daily</th>\n",
       "      <th>sunday</th>\n",
       "    </tr>\n",
       "  </thead>\n",
       "  <tbody>\n",
       "    <tr>\n",
       "      <th>daily</th>\n",
       "      <td>1.000000</td>\n",
       "      <td>0.958154</td>\n",
       "    </tr>\n",
       "    <tr>\n",
       "      <th>sunday</th>\n",
       "      <td>0.958154</td>\n",
       "      <td>1.000000</td>\n",
       "    </tr>\n",
       "  </tbody>\n",
       "</table>\n",
       "</div>"
      ],
      "text/plain": [
       "           daily    sunday\n",
       "daily   1.000000  0.958154\n",
       "sunday  0.958154  1.000000"
      ]
     },
     "execution_count": 97,
     "metadata": {},
     "output_type": "execute_result"
    }
   ],
   "source": [
    "data1[[\"daily\",\"sunday\"]].corr()"
   ]
  },
  {
   "cell_type": "code",
   "execution_count": 99,
   "metadata": {
    "colab": {
     "base_uri": "https://localhost:8080/",
     "height": 112
    },
    "executionInfo": {
     "elapsed": 335,
     "status": "ok",
     "timestamp": 1670478370408,
     "user": {
      "displayName": "ANANYA GHOSH",
      "userId": "07636421272032694955"
     },
     "user_tz": -330
    },
    "id": "4Uaqam_BOAZZ",
    "outputId": "edcb7662-95d5-42d8-9dee-accf256cf088"
   },
   "outputs": [
    {
     "data": {
      "text/html": [
       "<div>\n",
       "<style scoped>\n",
       "    .dataframe tbody tr th:only-of-type {\n",
       "        vertical-align: middle;\n",
       "    }\n",
       "\n",
       "    .dataframe tbody tr th {\n",
       "        vertical-align: top;\n",
       "    }\n",
       "\n",
       "    .dataframe thead th {\n",
       "        text-align: right;\n",
       "    }\n",
       "</style>\n",
       "<table border=\"1\" class=\"dataframe\">\n",
       "  <thead>\n",
       "    <tr style=\"text-align: right;\">\n",
       "      <th></th>\n",
       "      <th>daily</th>\n",
       "      <th>sunday</th>\n",
       "      <th>Y_hat</th>\n",
       "      <th>residuals</th>\n",
       "    </tr>\n",
       "  </thead>\n",
       "  <tbody>\n",
       "    <tr>\n",
       "      <th>daily</th>\n",
       "      <td>1.000000e+00</td>\n",
       "      <td>0.958154</td>\n",
       "      <td>1.000000e+00</td>\n",
       "      <td>-9.741713e-17</td>\n",
       "    </tr>\n",
       "    <tr>\n",
       "      <th>sunday</th>\n",
       "      <td>9.581543e-01</td>\n",
       "      <td>1.000000</td>\n",
       "      <td>9.581543e-01</td>\n",
       "      <td>2.862522e-01</td>\n",
       "    </tr>\n",
       "    <tr>\n",
       "      <th>Y_hat</th>\n",
       "      <td>1.000000e+00</td>\n",
       "      <td>0.958154</td>\n",
       "      <td>1.000000e+00</td>\n",
       "      <td>-8.111818e-17</td>\n",
       "    </tr>\n",
       "    <tr>\n",
       "      <th>residuals</th>\n",
       "      <td>-9.741713e-17</td>\n",
       "      <td>0.286252</td>\n",
       "      <td>-8.111818e-17</td>\n",
       "      <td>1.000000e+00</td>\n",
       "    </tr>\n",
       "  </tbody>\n",
       "</table>\n",
       "</div>"
      ],
      "text/plain": [
       "                  daily    sunday         Y_hat     residuals\n",
       "daily      1.000000e+00  0.958154  1.000000e+00 -9.741713e-17\n",
       "sunday     9.581543e-01  1.000000  9.581543e-01  2.862522e-01\n",
       "Y_hat      1.000000e+00  0.958154  1.000000e+00 -8.111818e-17\n",
       "residuals -9.741713e-17  0.286252 -8.111818e-17  1.000000e+00"
      ]
     },
     "execution_count": 99,
     "metadata": {},
     "output_type": "execute_result"
    }
   ],
   "source": [
    "data1.corr(numeric_only=True)"
   ]
  },
  {
   "cell_type": "code",
   "execution_count": 101,
   "metadata": {
    "scrolled": true
   },
   "outputs": [
    {
     "data": {
      "text/plain": [
       "<matplotlib.collections.PathCollection at 0x1532cdc70>"
      ]
     },
     "execution_count": 101,
     "metadata": {},
     "output_type": "execute_result"
    },
    {
     "data": {
      "image/png": "[encoded data removed]",
      "text/plain": [
       "<Figure size 640x480 with 1 Axes>"
      ]
     },
     "metadata": {},
     "output_type": "display_data"
    }
   ],
   "source": [
    "plt.scatter(data1[\"daily\"], data1[\"sunday\"])"
   ]
  },
  {
   "cell_type": "code",
   "execution_count": 103,
   "metadata": {},
   "outputs": [
    {
     "data": {
      "text/plain": [
       "{'whiskers': [<matplotlib.lines.Line2D at 0x1548d1c40>,\n",
       "  <matplotlib.lines.Line2D at 0x1548d1f10>],\n",
       " 'caps': [<matplotlib.lines.Line2D at 0x1548d2180>,\n",
       "  <matplotlib.lines.Line2D at 0x1548d2360>],\n",
       " 'boxes': [<matplotlib.lines.Line2D at 0x1548d19a0>],\n",
       " 'medians': [<matplotlib.lines.Line2D at 0x1548d2630>],\n",
       " 'fliers': [<matplotlib.lines.Line2D at 0x1548d28a0>],\n",
       " 'means': []}"
      ]
     },
     "execution_count": 103,
     "metadata": {},
     "output_type": "execute_result"
    },
    {
     "data": {
      "image/png": "[encoded data removed]",
      "text/plain": [
       "<Figure size 600x300 with 1 Axes>"
      ]
     },
     "metadata": {},
     "output_type": "display_data"
    }
   ],
   "source": [
    "plt.figure(figsize=(6,3))\n",
    "plt.boxplot(data1[\"daily\"], vert = False)"
   ]
  },
  {
   "cell_type": "code",
   "execution_count": 105,
   "metadata": {
    "colab": {
     "base_uri": "https://localhost:8080/",
     "height": 387
    },
    "executionInfo": {
     "elapsed": 1572,
     "status": "ok",
     "timestamp": 1670478392273,
     "user": {
      "displayName": "ANANYA GHOSH",
      "userId": "07636421272032694955"
     },
     "user_tz": -330
    },
    "id": "3fyE2q6-on5s",
    "outputId": "30670cfd-0258-4ee9-bdb1-8279f746bb99"
   },
   "outputs": [],
   "source": [
    "# import seaborn as sns\n",
    "#sns.displot(data1['daily'], kde=True)"
   ]
  },
  {
   "cell_type": "code",
   "execution_count": 107,
   "metadata": {
    "colab": {
     "base_uri": "https://localhost:8080/",
     "height": 353
    },
    "executionInfo": {
     "elapsed": 447,
     "status": "ok",
     "timestamp": 1670478403278,
     "user": {
      "displayName": "ANANYA GHOSH",
      "userId": "07636421272032694955"
     },
     "user_tz": -330
    },
    "id": "4VeREtJuon5u",
    "outputId": "b00a8b2b-e1d7-4daf-ea4f-2ebb409de0e3"
   },
   "outputs": [
    {
     "data": {
      "image/png": "[encoded data removed]",
      "text/plain": [
       "<Figure size 640x480 with 1 Axes>"
      ]
     },
     "metadata": {},
     "output_type": "display_data"
    }
   ],
   "source": [
    "import seaborn as sns\n",
    "sns.histplot(data1['sunday'], kde = True,stat='density',)\n",
    "plt.show()"
   ]
  },
  {
   "cell_type": "markdown",
   "metadata": {
    "id": "Hh2B9xPQOAZc"
   },
   "source": [
    "Fitting a Linear Regression Model"
   ]
  },
  {
   "cell_type": "code",
   "execution_count": 110,
   "metadata": {
    "executionInfo": {
     "elapsed": 901,
     "status": "ok",
     "timestamp": 1670478535883,
     "user": {
      "displayName": "ANANYA GHOSH",
      "userId": "07636421272032694955"
     },
     "user_tz": -330
    },
    "id": "0SO63uMnOAZc"
   },
   "outputs": [],
   "source": [
    "# Build regression model\n",
    "\n",
    "import statsmodels.formula.api as smf\n",
    "model = smf.ols(\"sunday~daily\",data = data1).fit()"
   ]
  },
  {
   "cell_type": "code",
   "execution_count": 112,
   "metadata": {
    "colab": {
     "base_uri": "https://localhost:8080/",
     "height": 444
    },
    "executionInfo": {
     "elapsed": 470,
     "status": "ok",
     "timestamp": 1670478565739,
     "user": {
      "displayName": "ANANYA GHOSH",
      "userId": "07636421272032694955"
     },
     "user_tz": -330
    },
    "id": "GfMDvYxoq4Xq",
    "outputId": "fc1f11ed-87c2-4548-aed2-3a8ffee5c15b",
    "scrolled": true
   },
   "outputs": [
    {
     "data": {
      "text/html": [
       "<table class=\"simpletable\">\n",
       "<caption>OLS Regression Results</caption>\n",
       "<tr>\n",
       "  <th>Dep. Variable:</th>         <td>sunday</td>      <th>  R-squared:         </th> <td>   0.918</td>\n",
       "</tr>\n",
       "<tr>\n",
       "  <th>Model:</th>                   <td>OLS</td>       <th>  Adj. R-squared:    </th> <td>   0.915</td>\n",
       "</tr>\n",
       "<tr>\n",
       "  <th>Method:</th>             <td>Least Squares</td>  <th>  F-statistic:       </th> <td>   358.5</td>\n",
       "</tr>\n",
       "<tr>\n",
       "  <th>Date:</th>             <td>Sat, 01 Feb 2025</td> <th>  Prob (F-statistic):</th> <td>6.02e-19</td>\n",
       "</tr>\n",
       "<tr>\n",
       "  <th>Time:</th>                 <td>10:04:48</td>     <th>  Log-Likelihood:    </th> <td> -206.85</td>\n",
       "</tr>\n",
       "<tr>\n",
       "  <th>No. Observations:</th>      <td>    34</td>      <th>  AIC:               </th> <td>   417.7</td>\n",
       "</tr>\n",
       "<tr>\n",
       "  <th>Df Residuals:</th>          <td>    32</td>      <th>  BIC:               </th> <td>   420.8</td>\n",
       "</tr>\n",
       "<tr>\n",
       "  <th>Df Model:</th>              <td>     1</td>      <th>                     </th>     <td> </td>   \n",
       "</tr>\n",
       "<tr>\n",
       "  <th>Covariance Type:</th>      <td>nonrobust</td>    <th>                     </th>     <td> </td>   \n",
       "</tr>\n",
       "</table>\n",
       "<table class=\"simpletable\">\n",
       "<tr>\n",
       "      <td></td>         <th>coef</th>     <th>std err</th>      <th>t</th>      <th>P>|t|</th>  <th>[0.025</th>    <th>0.975]</th>  \n",
       "</tr>\n",
       "<tr>\n",
       "  <th>Intercept</th> <td>   13.8356</td> <td>   35.804</td> <td>    0.386</td> <td> 0.702</td> <td>  -59.095</td> <td>   86.766</td>\n",
       "</tr>\n",
       "<tr>\n",
       "  <th>daily</th>     <td>    1.3397</td> <td>    0.071</td> <td>   18.935</td> <td> 0.000</td> <td>    1.196</td> <td>    1.484</td>\n",
       "</tr>\n",
       "</table>\n",
       "<table class=\"simpletable\">\n",
       "<tr>\n",
       "  <th>Omnibus:</th>       <td> 3.297</td> <th>  Durbin-Watson:     </th> <td>   2.059</td>\n",
       "</tr>\n",
       "<tr>\n",
       "  <th>Prob(Omnibus):</th> <td> 0.192</td> <th>  Jarque-Bera (JB):  </th> <td>   1.990</td>\n",
       "</tr>\n",
       "<tr>\n",
       "  <th>Skew:</th>          <td> 0.396</td> <th>  Prob(JB):          </th> <td>   0.370</td>\n",
       "</tr>\n",
       "<tr>\n",
       "  <th>Kurtosis:</th>      <td> 3.882</td> <th>  Cond. No.          </th> <td>    965.</td>\n",
       "</tr>\n",
       "</table><br/><br/>Notes:<br/>[1] Standard Errors assume that the covariance matrix of the errors is correctly specified."
      ],
      "text/latex": [
       "\\begin{center}\n",
       "\\begin{tabular}{lclc}\n",
       "\\toprule\n",
       "\\textbf{Dep. Variable:}    &      sunday      & \\textbf{  R-squared:         } &     0.918   \\\\\n",
       "\\textbf{Model:}            &       OLS        & \\textbf{  Adj. R-squared:    } &     0.915   \\\\\n",
       "\\textbf{Method:}           &  Least Squares   & \\textbf{  F-statistic:       } &     358.5   \\\\\n",
       "\\textbf{Date:}             & Sat, 01 Feb 2025 & \\textbf{  Prob (F-statistic):} &  6.02e-19   \\\\\n",
       "\\textbf{Time:}             &     10:04:48     & \\textbf{  Log-Likelihood:    } &   -206.85   \\\\\n",
       "\\textbf{No. Observations:} &          34      & \\textbf{  AIC:               } &     417.7   \\\\\n",
       "\\textbf{Df Residuals:}     &          32      & \\textbf{  BIC:               } &     420.8   \\\\\n",
       "\\textbf{Df Model:}         &           1      & \\textbf{                     } &             \\\\\n",
       "\\textbf{Covariance Type:}  &    nonrobust     & \\textbf{                     } &             \\\\\n",
       "\\bottomrule\n",
       "\\end{tabular}\n",
       "\\begin{tabular}{lcccccc}\n",
       "                   & \\textbf{coef} & \\textbf{std err} & \\textbf{t} & \\textbf{P$> |$t$|$} & \\textbf{[0.025} & \\textbf{0.975]}  \\\\\n",
       "\\midrule\n",
       "\\textbf{Intercept} &      13.8356  &       35.804     &     0.386  &         0.702        &      -59.095    &       86.766     \\\\\n",
       "\\textbf{daily}     &       1.3397  &        0.071     &    18.935  &         0.000        &        1.196    &        1.484     \\\\\n",
       "\\bottomrule\n",
       "\\end{tabular}\n",
       "\\begin{tabular}{lclc}\n",
       "\\textbf{Omnibus:}       &  3.297 & \\textbf{  Durbin-Watson:     } &    2.059  \\\\\n",
       "\\textbf{Prob(Omnibus):} &  0.192 & \\textbf{  Jarque-Bera (JB):  } &    1.990  \\\\\n",
       "\\textbf{Skew:}          &  0.396 & \\textbf{  Prob(JB):          } &    0.370  \\\\\n",
       "\\textbf{Kurtosis:}      &  3.882 & \\textbf{  Cond. No.          } &     965.  \\\\\n",
       "\\bottomrule\n",
       "\\end{tabular}\n",
       "%\\caption{OLS Regression Results}\n",
       "\\end{center}\n",
       "\n",
       "Notes: \\newline\n",
       " [1] Standard Errors assume that the covariance matrix of the errors is correctly specified."
      ],
      "text/plain": [
       "<class 'statsmodels.iolib.summary.Summary'>\n",
       "\"\"\"\n",
       "                            OLS Regression Results                            \n",
       "==============================================================================\n",
       "Dep. Variable:                 sunday   R-squared:                       0.918\n",
       "Model:                            OLS   Adj. R-squared:                  0.915\n",
       "Method:                 Least Squares   F-statistic:                     358.5\n",
       "Date:                Sat, 01 Feb 2025   Prob (F-statistic):           6.02e-19\n",
       "Time:                        10:04:48   Log-Likelihood:                -206.85\n",
       "No. Observations:                  34   AIC:                             417.7\n",
       "Df Residuals:                      32   BIC:                             420.8\n",
       "Df Model:                           1                                         \n",
       "Covariance Type:            nonrobust                                         \n",
       "==============================================================================\n",
       "                 coef    std err          t      P>|t|      [0.025      0.975]\n",
       "------------------------------------------------------------------------------\n",
       "Intercept     13.8356     35.804      0.386      0.702     -59.095      86.766\n",
       "daily          1.3397      0.071     18.935      0.000       1.196       1.484\n",
       "==============================================================================\n",
       "Omnibus:                        3.297   Durbin-Watson:                   2.059\n",
       "Prob(Omnibus):                  0.192   Jarque-Bera (JB):                1.990\n",
       "Skew:                           0.396   Prob(JB):                        0.370\n",
       "Kurtosis:                       3.882   Cond. No.                         965.\n",
       "==============================================================================\n",
       "\n",
       "Notes:\n",
       "[1] Standard Errors assume that the covariance matrix of the errors is correctly specified.\n",
       "\"\"\""
      ]
     },
     "execution_count": 112,
     "metadata": {},
     "output_type": "execute_result"
    }
   ],
   "source": [
    "model.summary()"
   ]
  },
  {
   "cell_type": "markdown",
   "metadata": {},
   "source": [
    "### model.summary( ) parameters:\n",
    "\n",
    "In regression analysis using libraries like `statsmodels` in Python, the `model.summary()` method generates a detailed summary report of the OLS regression results. This summary contains various statistical metrics and information that help in interpreting the performance and reliability of the regression model. Here's a brief explanation of some key parameters you'll typically see in the output of `model.summary()`:\n",
    "\n",
    "#### 1. **Model Fit Statistics**\n",
    "   - **R-squared**: Measures the proportion of the variance in the dependent variable that is predictable from the independent variable(s). A higher R-squared value indicates a better fit of the model.\n",
    "   - **Adjusted R-squared**: Adjusted for the number of predictors in the model; it is always lower than the R-squared. It provides a more accurate measure by adjusting for the number of terms in the model.\n",
    "   - **F-statistic**: A measure that tests the overall significance of the model. It compares the variance explained by the model with the variance unexplained, determining if the coefficients are different from zero collectively.\n",
    "   - **Prob (F-statistic)**: The p-value corresponding to the F-statistic. A low value (typically <0.05) indicates that the model is statistically significant.\n",
    "\n",
    "#### 2. **Coefficients**\n",
    "   - **coef**: The estimated values of the coefficients for the predictors.\n",
    "   - **std err**: The standard error of the estimated coefficients, indicating the level of accuracy of the coefficients.\n",
    "   - **t**: The t-statistic, which is the coefficient divided by its standard error. It tests if the coefficient is significantly different from zero.\n",
    "   - **P>|t|**: The p-value corresponding to the t-statistic. A p-value less than a chosen significance level (commonly 0.05) suggests that the corresponding coefficient is statistically significant.\n",
    "\n",
    "#### 3. **Confidence Interval**\n",
    "   - Displays the 95% confidence interval for the coefficients, giving a range within which the true coefficient is expected to fall with 95% certainty.\n",
    "\n",
    "#### 4. **Other Diagnostics**\n",
    "   - **Durbin-Watson**: A test statistic that checks for autocorrelation in the residuals from a regression analysis. Values close to 2 suggest there is no autocorrelation.\n",
    "   - **Omnibus/Prob(Omnibus)**: A test for the normality of the residuals. A non-significant value (high p-value) suggests that the residuals are normally distributed.\n",
    "   - **Skew**: A measure of the asymmetry of the data or the residuals.\n",
    "   - **Kurtosis**: A measure of the shape of the distribution of the residuals.\n",
    "   - **Jarque-Bera (JB)/Prob(JB)**: Another test of the normality of the residuals. Similar to the Omnibus test, a higher p-value indicates more evidence for the normality of the residuals.\n",
    "   - **Condition Number**: A measure of the sensitivity of the model's output to its input. High values might indicate multicollinearity or other numerical problems.\n",
    "\n",
    "These parameters collectively provide comprehensive insights into the model’s performance, the significance of variables, and whether the assumptions of the regression model are being met. Adjusting your model based on these diagnostics can help improve model accuracy and the reliability of inferences drawn from the analysis."
   ]
  },
  {
   "cell_type": "code",
   "execution_count": 115,
   "metadata": {},
   "outputs": [
    {
     "data": {
      "image/png": "[encoded data removed]",
      "text/plain": [
       "<Figure size 640x480 with 1 Axes>"
      ]
     },
     "metadata": {},
     "output_type": "display_data"
    }
   ],
   "source": [
    "x = data1[\"daily\"].values\n",
    "y = data1[\"sunday\"].values\n",
    "plt.scatter(x, y, color = \"m\", marker = \"o\", s = 30)\n",
    "b0 = 13.84\n",
    "b1 =1.33\n",
    "# predicted response vector\n",
    "y_hat = b0 + b1*x\n",
    " \n",
    "# plotting the regression line\n",
    "plt.plot(x, y_hat, color = \"g\")\n",
    "  \n",
    "# putting labels\n",
    "plt.xlabel('x')\n",
    "plt.ylabel('y')\n",
    "plt.show()"
   ]
  },
  {
   "cell_type": "code",
   "execution_count": 117,
   "metadata": {
    "colab": {
     "base_uri": "https://localhost:8080/",
     "height": 279
    },
    "executionInfo": {
     "elapsed": 1089,
     "status": "ok",
     "timestamp": 1670394927443,
     "user": {
      "displayName": "ANANYA GHOSH",
      "userId": "07636421272032694955"
     },
     "user_tz": -330
    },
    "id": "WZPZ9lDqon5z",
    "outputId": "75569b3a-507a-493f-fbba-510347d64de3"
   },
   "outputs": [
    {
     "data": {
      "image/png": "[encoded data removed]",
      "text/plain": [
       "<Figure size 640x480 with 1 Axes>"
      ]
     },
     "metadata": {},
     "output_type": "display_data"
    }
   ],
   "source": [
    "# Plot the linear regression line using seaborn regplot() method\n",
    "sns.regplot(x=\"daily\", y=\"sunday\", data=data1)\n",
    "plt.xlim([0,1250])\n",
    "plt.show()"
   ]
  },
  {
   "cell_type": "code",
   "execution_count": 119,
   "metadata": {},
   "outputs": [],
   "source": [
    "# import numpy as np\n",
    "# x = np.arange(10)\n",
    "# plt.plot(2 + 3 *x)\n",
    "# plt.show()"
   ]
  },
  {
   "cell_type": "code",
   "execution_count": 121,
   "metadata": {
    "colab": {
     "base_uri": "https://localhost:8080/"
    },
    "executionInfo": {
     "elapsed": 13,
     "status": "ok",
     "timestamp": 1670394931767,
     "user": {
      "displayName": "ANANYA GHOSH",
      "userId": "07636421272032694955"
     },
     "user_tz": -330
    },
    "id": "ri7sldAcon50",
    "outputId": "5a98ee2c-da31-4309-caf8-4efcb5144ddb"
   },
   "outputs": [
    {
     "data": {
      "text/plain": [
       "Intercept    13.835630\n",
       "daily         1.339715\n",
       "dtype: float64"
      ]
     },
     "execution_count": 121,
     "metadata": {},
     "output_type": "execute_result"
    }
   ],
   "source": [
    "#Coefficients\n",
    "model.params"
   ]
  },
  {
   "cell_type": "code",
   "execution_count": 123,
   "metadata": {
    "colab": {
     "base_uri": "https://localhost:8080/"
    },
    "executionInfo": {
     "elapsed": 539,
     "status": "ok",
     "timestamp": 1670394937245,
     "user": {
      "displayName": "ANANYA GHOSH",
      "userId": "07636421272032694955"
     },
     "user_tz": -330
    },
    "id": "G0rYlk44kKlv",
    "outputId": "1d6e053d-2aaf-43a7-d2bb-8b65c308191d"
   },
   "outputs": [],
   "source": [
    "#1100\n",
    "#(1.3*1164.388)+13.835630"
   ]
  },
  {
   "cell_type": "code",
   "execution_count": 125,
   "metadata": {
    "colab": {
     "base_uri": "https://localhost:8080/"
    },
    "executionInfo": {
     "elapsed": 1443,
     "status": "ok",
     "timestamp": 1670482293562,
     "user": {
      "displayName": "ANANYA GHOSH",
      "userId": "07636421272032694955"
     },
     "user_tz": -330
    },
    "id": "otPpC9kzon51",
    "outputId": "f3826b4a-1fef-44a5-8b00-dd41aefb4c06"
   },
   "outputs": [
    {
     "name": "stdout",
     "output_type": "stream",
     "text": [
      "Intercept     0.386427\n",
      "daily        18.934840\n",
      "dtype: float64 \n",
      " Intercept    7.017382e-01\n",
      "daily        6.016802e-19\n",
      "dtype: float64\n"
     ]
    }
   ],
   "source": [
    "#t and p-Values\n",
    "print(model.tvalues, '\\n', model.pvalues)    \n",
    "# print(f'model t-values:\\n{model.tvalues}\\n-----------------\\nmodel p-values: \\n{model.pvalues}')    "
   ]
  },
  {
   "cell_type": "code",
   "execution_count": 127,
   "metadata": {
    "id": "XW8anJbaon55"
   },
   "outputs": [],
   "source": [
    "# predict value for 150,240"
   ]
  },
  {
   "cell_type": "code",
   "execution_count": 129,
   "metadata": {
    "colab": {
     "base_uri": "https://localhost:8080/"
    },
    "executionInfo": {
     "elapsed": 388,
     "status": "ok",
     "timestamp": 1670482317652,
     "user": {
      "displayName": "ANANYA GHOSH",
      "userId": "07636421272032694955"
     },
     "user_tz": -330
    },
    "id": "GFrR1rSvon52",
    "outputId": "8e9aab5d-89a1-4962-b5c2-98a29e5ad2a5"
   },
   "outputs": [
    {
     "data": {
      "text/plain": [
       "(0.9180596895873295, 0.9154990548869336)"
      ]
     },
     "execution_count": 129,
     "metadata": {},
     "output_type": "execute_result"
    }
   ],
   "source": [
    "#R squared values\n",
    "(model.rsquared,model.rsquared_adj)"
   ]
  },
  {
   "cell_type": "markdown",
   "metadata": {
    "id": "F2S7v7rdOAZf"
   },
   "source": [
    "# Predict for new data point"
   ]
  },
  {
   "cell_type": "code",
   "execution_count": 132,
   "metadata": {
    "executionInfo": {
     "elapsed": 344,
     "status": "ok",
     "timestamp": 1670482356975,
     "user": {
      "displayName": "ANANYA GHOSH",
      "userId": "07636421272032694955"
     },
     "user_tz": -330
    },
    "id": "rqe52vmCOAZg"
   },
   "outputs": [],
   "source": [
    "#Predict for 200 and 300 daily circulation\n",
    "newdata=pd.Series([200,300,1500])"
   ]
  },
  {
   "cell_type": "code",
   "execution_count": 134,
   "metadata": {
    "executionInfo": {
     "elapsed": 508,
     "status": "ok",
     "timestamp": 1670482376081,
     "user": {
      "displayName": "ANANYA GHOSH",
      "userId": "07636421272032694955"
     },
     "user_tz": -330
    },
    "id": "ff1dWLUron53"
   },
   "outputs": [
    {
     "data": {
      "text/html": [
       "<div>\n",
       "<style scoped>\n",
       "    .dataframe tbody tr th:only-of-type {\n",
       "        vertical-align: middle;\n",
       "    }\n",
       "\n",
       "    .dataframe tbody tr th {\n",
       "        vertical-align: top;\n",
       "    }\n",
       "\n",
       "    .dataframe thead th {\n",
       "        text-align: right;\n",
       "    }\n",
       "</style>\n",
       "<table border=\"1\" class=\"dataframe\">\n",
       "  <thead>\n",
       "    <tr style=\"text-align: right;\">\n",
       "      <th></th>\n",
       "      <th>daily</th>\n",
       "    </tr>\n",
       "  </thead>\n",
       "  <tbody>\n",
       "    <tr>\n",
       "      <th>0</th>\n",
       "      <td>200</td>\n",
       "    </tr>\n",
       "    <tr>\n",
       "      <th>1</th>\n",
       "      <td>300</td>\n",
       "    </tr>\n",
       "    <tr>\n",
       "      <th>2</th>\n",
       "      <td>1500</td>\n",
       "    </tr>\n",
       "  </tbody>\n",
       "</table>\n",
       "</div>"
      ],
      "text/plain": [
       "   daily\n",
       "0    200\n",
       "1    300\n",
       "2   1500"
      ]
     },
     "execution_count": 134,
     "metadata": {},
     "output_type": "execute_result"
    }
   ],
   "source": [
    "data_pred=pd.DataFrame(newdata,columns=['daily'])\n",
    "data_pred"
   ]
  },
  {
   "cell_type": "code",
   "execution_count": 136,
   "metadata": {
    "colab": {
     "base_uri": "https://localhost:8080/"
    },
    "executionInfo": {
     "elapsed": 336,
     "status": "ok",
     "timestamp": 1670482416260,
     "user": {
      "displayName": "ANANYA GHOSH",
      "userId": "07636421272032694955"
     },
     "user_tz": -330
    },
    "id": "M1OmCWxvon54",
    "outputId": "5c09563c-1827-45f7-aee0-d5ac2b31a360"
   },
   "outputs": [
    {
     "data": {
      "text/plain": [
       "0     281.778581\n",
       "1     415.750057\n",
       "2    2023.407766\n",
       "dtype: float64"
      ]
     },
     "execution_count": 136,
     "metadata": {},
     "output_type": "execute_result"
    }
   ],
   "source": [
    "model.predict(data_pred)"
   ]
  },
  {
   "cell_type": "code",
   "execution_count": 138,
   "metadata": {
    "scrolled": true
   },
   "outputs": [
    {
     "data": {
      "text/plain": [
       "0      538.939509\n",
       "1      706.442705\n",
       "2      490.275710\n",
       "3      333.431284\n",
       "4      734.307432\n",
       "5      996.884826\n",
       "6      280.213795\n",
       "7      352.279731\n",
       "8      290.090172\n",
       "9      323.546868\n",
       "10     616.379041\n",
       "11     400.438457\n",
       "12     262.668890\n",
       "13    1573.783417\n",
       "14     609.447357\n",
       "15     566.965002\n",
       "16     378.613164\n",
       "17    1061.219269\n",
       "18    1633.852208\n",
       "19    1119.786239\n",
       "20     313.594128\n",
       "21     489.224034\n",
       "22     704.489401\n",
       "23     309.195844\n",
       "24     466.219792\n",
       "25     277.920203\n",
       "26     192.337885\n",
       "27     514.901007\n",
       "28     380.708478\n",
       "29     777.960698\n",
       "30     538.047259\n",
       "31     284.270451\n",
       "32     444.722729\n",
       "33    1137.725020\n",
       "dtype: float64"
      ]
     },
     "execution_count": 138,
     "metadata": {},
     "output_type": "execute_result"
    }
   ],
   "source": [
    "pred = model.predict(data1[\"daily\"])\n",
    "pred"
   ]
  },
  {
   "cell_type": "code",
   "execution_count": 140,
   "metadata": {},
   "outputs": [],
   "source": [
    "data1[\"Y_hat\"] = pred"
   ]
  },
  {
   "cell_type": "code",
   "execution_count": 142,
   "metadata": {},
   "outputs": [
    {
     "data": {
      "text/html": [
       "<div>\n",
       "<style scoped>\n",
       "    .dataframe tbody tr th:only-of-type {\n",
       "        vertical-align: middle;\n",
       "    }\n",
       "\n",
       "    .dataframe tbody tr th {\n",
       "        vertical-align: top;\n",
       "    }\n",
       "\n",
       "    .dataframe thead th {\n",
       "        text-align: right;\n",
       "    }\n",
       "</style>\n",
       "<table border=\"1\" class=\"dataframe\">\n",
       "  <thead>\n",
       "    <tr style=\"text-align: right;\">\n",
       "      <th></th>\n",
       "      <th>Newspaper</th>\n",
       "      <th>daily</th>\n",
       "      <th>sunday</th>\n",
       "      <th>Y_hat</th>\n",
       "      <th>residuals</th>\n",
       "    </tr>\n",
       "  </thead>\n",
       "  <tbody>\n",
       "    <tr>\n",
       "      <th>0</th>\n",
       "      <td>Baltimore Sun</td>\n",
       "      <td>391.952</td>\n",
       "      <td>488.506</td>\n",
       "      <td>538.939509</td>\n",
       "      <td>-50.433509</td>\n",
       "    </tr>\n",
       "    <tr>\n",
       "      <th>1</th>\n",
       "      <td>Boston Globe</td>\n",
       "      <td>516.981</td>\n",
       "      <td>798.298</td>\n",
       "      <td>706.442705</td>\n",
       "      <td>91.855295</td>\n",
       "    </tr>\n",
       "    <tr>\n",
       "      <th>2</th>\n",
       "      <td>Boston Herald</td>\n",
       "      <td>355.628</td>\n",
       "      <td>235.084</td>\n",
       "      <td>490.275710</td>\n",
       "      <td>-255.191710</td>\n",
       "    </tr>\n",
       "    <tr>\n",
       "      <th>3</th>\n",
       "      <td>Charlotte Observer</td>\n",
       "      <td>238.555</td>\n",
       "      <td>299.451</td>\n",
       "      <td>333.431284</td>\n",
       "      <td>-33.980284</td>\n",
       "    </tr>\n",
       "    <tr>\n",
       "      <th>4</th>\n",
       "      <td>Chicago Sun Times</td>\n",
       "      <td>537.780</td>\n",
       "      <td>559.093</td>\n",
       "      <td>734.307432</td>\n",
       "      <td>-175.214432</td>\n",
       "    </tr>\n",
       "    <tr>\n",
       "      <th>5</th>\n",
       "      <td>Chicago Tribune</td>\n",
       "      <td>733.775</td>\n",
       "      <td>1133.249</td>\n",
       "      <td>996.884826</td>\n",
       "      <td>136.364174</td>\n",
       "    </tr>\n",
       "    <tr>\n",
       "      <th>6</th>\n",
       "      <td>Cincinnati Enquirer</td>\n",
       "      <td>198.832</td>\n",
       "      <td>348.744</td>\n",
       "      <td>280.213795</td>\n",
       "      <td>68.530205</td>\n",
       "    </tr>\n",
       "    <tr>\n",
       "      <th>7</th>\n",
       "      <td>Denver Post</td>\n",
       "      <td>252.624</td>\n",
       "      <td>417.779</td>\n",
       "      <td>352.279731</td>\n",
       "      <td>65.499269</td>\n",
       "    </tr>\n",
       "    <tr>\n",
       "      <th>8</th>\n",
       "      <td>Des Moines Register</td>\n",
       "      <td>206.204</td>\n",
       "      <td>344.522</td>\n",
       "      <td>290.090172</td>\n",
       "      <td>54.431828</td>\n",
       "    </tr>\n",
       "    <tr>\n",
       "      <th>9</th>\n",
       "      <td>Hartford Courant</td>\n",
       "      <td>231.177</td>\n",
       "      <td>323.084</td>\n",
       "      <td>323.546868</td>\n",
       "      <td>-0.462868</td>\n",
       "    </tr>\n",
       "    <tr>\n",
       "      <th>10</th>\n",
       "      <td>Houston Chronicle</td>\n",
       "      <td>449.755</td>\n",
       "      <td>620.752</td>\n",
       "      <td>616.379041</td>\n",
       "      <td>4.372959</td>\n",
       "    </tr>\n",
       "    <tr>\n",
       "      <th>11</th>\n",
       "      <td>Kansas City Star</td>\n",
       "      <td>288.571</td>\n",
       "      <td>423.305</td>\n",
       "      <td>400.438457</td>\n",
       "      <td>22.866543</td>\n",
       "    </tr>\n",
       "    <tr>\n",
       "      <th>12</th>\n",
       "      <td>Los Angeles Daily  News</td>\n",
       "      <td>185.736</td>\n",
       "      <td>202.614</td>\n",
       "      <td>262.668890</td>\n",
       "      <td>-60.054890</td>\n",
       "    </tr>\n",
       "    <tr>\n",
       "      <th>13</th>\n",
       "      <td>Los Angeles Times</td>\n",
       "      <td>1164.388</td>\n",
       "      <td>1531.527</td>\n",
       "      <td>1573.783417</td>\n",
       "      <td>-42.256417</td>\n",
       "    </tr>\n",
       "    <tr>\n",
       "      <th>14</th>\n",
       "      <td>Miami Herald</td>\n",
       "      <td>444.581</td>\n",
       "      <td>553.479</td>\n",
       "      <td>609.447357</td>\n",
       "      <td>-55.968357</td>\n",
       "    </tr>\n",
       "    <tr>\n",
       "      <th>15</th>\n",
       "      <td>Minneapolis Star Tribune</td>\n",
       "      <td>412.871</td>\n",
       "      <td>685.975</td>\n",
       "      <td>566.965002</td>\n",
       "      <td>119.009998</td>\n",
       "    </tr>\n",
       "    <tr>\n",
       "      <th>16</th>\n",
       "      <td>New Orleans Times-Picayune</td>\n",
       "      <td>272.280</td>\n",
       "      <td>324.241</td>\n",
       "      <td>378.613164</td>\n",
       "      <td>-54.372164</td>\n",
       "    </tr>\n",
       "    <tr>\n",
       "      <th>17</th>\n",
       "      <td>New York Daily News</td>\n",
       "      <td>781.796</td>\n",
       "      <td>983.240</td>\n",
       "      <td>1061.219269</td>\n",
       "      <td>-77.979269</td>\n",
       "    </tr>\n",
       "    <tr>\n",
       "      <th>18</th>\n",
       "      <td>New York Times</td>\n",
       "      <td>1209.225</td>\n",
       "      <td>1762.015</td>\n",
       "      <td>1633.852208</td>\n",
       "      <td>128.162792</td>\n",
       "    </tr>\n",
       "    <tr>\n",
       "      <th>19</th>\n",
       "      <td>Newsday</td>\n",
       "      <td>825.512</td>\n",
       "      <td>960.308</td>\n",
       "      <td>1119.786239</td>\n",
       "      <td>-159.478239</td>\n",
       "    </tr>\n",
       "    <tr>\n",
       "      <th>20</th>\n",
       "      <td>Omaha World Herald</td>\n",
       "      <td>223.748</td>\n",
       "      <td>284.611</td>\n",
       "      <td>313.594128</td>\n",
       "      <td>-28.983128</td>\n",
       "    </tr>\n",
       "    <tr>\n",
       "      <th>21</th>\n",
       "      <td>Orange County Register</td>\n",
       "      <td>354.843</td>\n",
       "      <td>407.760</td>\n",
       "      <td>489.224034</td>\n",
       "      <td>-81.464034</td>\n",
       "    </tr>\n",
       "    <tr>\n",
       "      <th>22</th>\n",
       "      <td>Philadelphia Inquirer</td>\n",
       "      <td>515.523</td>\n",
       "      <td>982.663</td>\n",
       "      <td>704.489401</td>\n",
       "      <td>278.173599</td>\n",
       "    </tr>\n",
       "    <tr>\n",
       "      <th>23</th>\n",
       "      <td>Pittsburgh Press</td>\n",
       "      <td>220.465</td>\n",
       "      <td>557.000</td>\n",
       "      <td>309.195844</td>\n",
       "      <td>247.804156</td>\n",
       "    </tr>\n",
       "    <tr>\n",
       "      <th>24</th>\n",
       "      <td>Portland Oregonian</td>\n",
       "      <td>337.672</td>\n",
       "      <td>440.923</td>\n",
       "      <td>466.219792</td>\n",
       "      <td>-25.296792</td>\n",
       "    </tr>\n",
       "    <tr>\n",
       "      <th>25</th>\n",
       "      <td>Providence Journal-Bulletin</td>\n",
       "      <td>197.120</td>\n",
       "      <td>268.060</td>\n",
       "      <td>277.920203</td>\n",
       "      <td>-9.860203</td>\n",
       "    </tr>\n",
       "    <tr>\n",
       "      <th>26</th>\n",
       "      <td>Rochester Democrat &amp; Chronicle</td>\n",
       "      <td>133.239</td>\n",
       "      <td>262.048</td>\n",
       "      <td>192.337885</td>\n",
       "      <td>69.710115</td>\n",
       "    </tr>\n",
       "    <tr>\n",
       "      <th>27</th>\n",
       "      <td>Rocky Mountain News</td>\n",
       "      <td>374.009</td>\n",
       "      <td>432.502</td>\n",
       "      <td>514.901007</td>\n",
       "      <td>-82.399007</td>\n",
       "    </tr>\n",
       "    <tr>\n",
       "      <th>28</th>\n",
       "      <td>Sacramento Bee</td>\n",
       "      <td>273.844</td>\n",
       "      <td>338.355</td>\n",
       "      <td>380.708478</td>\n",
       "      <td>-42.353478</td>\n",
       "    </tr>\n",
       "    <tr>\n",
       "      <th>29</th>\n",
       "      <td>San Francisco Chronicle</td>\n",
       "      <td>570.364</td>\n",
       "      <td>704.322</td>\n",
       "      <td>777.960698</td>\n",
       "      <td>-73.638698</td>\n",
       "    </tr>\n",
       "    <tr>\n",
       "      <th>30</th>\n",
       "      <td>St. Louis Post-Dispatch</td>\n",
       "      <td>391.286</td>\n",
       "      <td>585.681</td>\n",
       "      <td>538.047259</td>\n",
       "      <td>47.633741</td>\n",
       "    </tr>\n",
       "    <tr>\n",
       "      <th>31</th>\n",
       "      <td>St. Paul Pioneer Press</td>\n",
       "      <td>201.860</td>\n",
       "      <td>267.781</td>\n",
       "      <td>284.270451</td>\n",
       "      <td>-16.489451</td>\n",
       "    </tr>\n",
       "    <tr>\n",
       "      <th>32</th>\n",
       "      <td>Tampa Tribune</td>\n",
       "      <td>321.626</td>\n",
       "      <td>408.343</td>\n",
       "      <td>444.722729</td>\n",
       "      <td>-36.379729</td>\n",
       "    </tr>\n",
       "    <tr>\n",
       "      <th>33</th>\n",
       "      <td>Washington Post</td>\n",
       "      <td>838.902</td>\n",
       "      <td>1165.567</td>\n",
       "      <td>1137.725020</td>\n",
       "      <td>27.841980</td>\n",
       "    </tr>\n",
       "  </tbody>\n",
       "</table>\n",
       "</div>"
      ],
      "text/plain": [
       "                         Newspaper     daily    sunday        Y_hat  \\\n",
       "0                    Baltimore Sun   391.952   488.506   538.939509   \n",
       "1                     Boston Globe   516.981   798.298   706.442705   \n",
       "2                    Boston Herald   355.628   235.084   490.275710   \n",
       "3               Charlotte Observer   238.555   299.451   333.431284   \n",
       "4                Chicago Sun Times   537.780   559.093   734.307432   \n",
       "5                  Chicago Tribune   733.775  1133.249   996.884826   \n",
       "6              Cincinnati Enquirer   198.832   348.744   280.213795   \n",
       "7                      Denver Post   252.624   417.779   352.279731   \n",
       "8              Des Moines Register   206.204   344.522   290.090172   \n",
       "9                 Hartford Courant   231.177   323.084   323.546868   \n",
       "10               Houston Chronicle   449.755   620.752   616.379041   \n",
       "11                Kansas City Star   288.571   423.305   400.438457   \n",
       "12         Los Angeles Daily  News   185.736   202.614   262.668890   \n",
       "13               Los Angeles Times  1164.388  1531.527  1573.783417   \n",
       "14                    Miami Herald   444.581   553.479   609.447357   \n",
       "15        Minneapolis Star Tribune   412.871   685.975   566.965002   \n",
       "16      New Orleans Times-Picayune   272.280   324.241   378.613164   \n",
       "17             New York Daily News   781.796   983.240  1061.219269   \n",
       "18                  New York Times  1209.225  1762.015  1633.852208   \n",
       "19                         Newsday   825.512   960.308  1119.786239   \n",
       "20              Omaha World Herald   223.748   284.611   313.594128   \n",
       "21          Orange County Register   354.843   407.760   489.224034   \n",
       "22           Philadelphia Inquirer   515.523   982.663   704.489401   \n",
       "23                Pittsburgh Press   220.465   557.000   309.195844   \n",
       "24              Portland Oregonian   337.672   440.923   466.219792   \n",
       "25     Providence Journal-Bulletin   197.120   268.060   277.920203   \n",
       "26  Rochester Democrat & Chronicle   133.239   262.048   192.337885   \n",
       "27             Rocky Mountain News   374.009   432.502   514.901007   \n",
       "28                  Sacramento Bee   273.844   338.355   380.708478   \n",
       "29         San Francisco Chronicle   570.364   704.322   777.960698   \n",
       "30         St. Louis Post-Dispatch   391.286   585.681   538.047259   \n",
       "31          St. Paul Pioneer Press   201.860   267.781   284.270451   \n",
       "32                   Tampa Tribune   321.626   408.343   444.722729   \n",
       "33                 Washington Post   838.902  1165.567  1137.725020   \n",
       "\n",
       "     residuals  \n",
       "0   -50.433509  \n",
       "1    91.855295  \n",
       "2  -255.191710  \n",
       "3   -33.980284  \n",
       "4  -175.214432  \n",
       "5   136.364174  \n",
       "6    68.530205  \n",
       "7    65.499269  \n",
       "8    54.431828  \n",
       "9    -0.462868  \n",
       "10    4.372959  \n",
       "11   22.866543  \n",
       "12  -60.054890  \n",
       "13  -42.256417  \n",
       "14  -55.968357  \n",
       "15  119.009998  \n",
       "16  -54.372164  \n",
       "17  -77.979269  \n",
       "18  128.162792  \n",
       "19 -159.478239  \n",
       "20  -28.983128  \n",
       "21  -81.464034  \n",
       "22  278.173599  \n",
       "23  247.804156  \n",
       "24  -25.296792  \n",
       "25   -9.860203  \n",
       "26   69.710115  \n",
       "27  -82.399007  \n",
       "28  -42.353478  \n",
       "29  -73.638698  \n",
       "30   47.633741  \n",
       "31  -16.489451  \n",
       "32  -36.379729  \n",
       "33   27.841980  "
      ]
     },
     "execution_count": 142,
     "metadata": {},
     "output_type": "execute_result"
    }
   ],
   "source": [
    "data1"
   ]
  },
  {
   "cell_type": "code",
   "execution_count": 144,
   "metadata": {},
   "outputs": [
    {
     "data": {
      "text/html": [
       "<div>\n",
       "<style scoped>\n",
       "    .dataframe tbody tr th:only-of-type {\n",
       "        vertical-align: middle;\n",
       "    }\n",
       "\n",
       "    .dataframe tbody tr th {\n",
       "        vertical-align: top;\n",
       "    }\n",
       "\n",
       "    .dataframe thead th {\n",
       "        text-align: right;\n",
       "    }\n",
       "</style>\n",
       "<table border=\"1\" class=\"dataframe\">\n",
       "  <thead>\n",
       "    <tr style=\"text-align: right;\">\n",
       "      <th></th>\n",
       "      <th>Newspaper</th>\n",
       "      <th>daily</th>\n",
       "      <th>sunday</th>\n",
       "      <th>Y_hat</th>\n",
       "      <th>residuals</th>\n",
       "    </tr>\n",
       "  </thead>\n",
       "  <tbody>\n",
       "    <tr>\n",
       "      <th>0</th>\n",
       "      <td>Baltimore Sun</td>\n",
       "      <td>391.952</td>\n",
       "      <td>488.506</td>\n",
       "      <td>538.939509</td>\n",
       "      <td>-50.433509</td>\n",
       "    </tr>\n",
       "    <tr>\n",
       "      <th>1</th>\n",
       "      <td>Boston Globe</td>\n",
       "      <td>516.981</td>\n",
       "      <td>798.298</td>\n",
       "      <td>706.442705</td>\n",
       "      <td>91.855295</td>\n",
       "    </tr>\n",
       "    <tr>\n",
       "      <th>2</th>\n",
       "      <td>Boston Herald</td>\n",
       "      <td>355.628</td>\n",
       "      <td>235.084</td>\n",
       "      <td>490.275710</td>\n",
       "      <td>-255.191710</td>\n",
       "    </tr>\n",
       "    <tr>\n",
       "      <th>3</th>\n",
       "      <td>Charlotte Observer</td>\n",
       "      <td>238.555</td>\n",
       "      <td>299.451</td>\n",
       "      <td>333.431284</td>\n",
       "      <td>-33.980284</td>\n",
       "    </tr>\n",
       "    <tr>\n",
       "      <th>4</th>\n",
       "      <td>Chicago Sun Times</td>\n",
       "      <td>537.780</td>\n",
       "      <td>559.093</td>\n",
       "      <td>734.307432</td>\n",
       "      <td>-175.214432</td>\n",
       "    </tr>\n",
       "    <tr>\n",
       "      <th>5</th>\n",
       "      <td>Chicago Tribune</td>\n",
       "      <td>733.775</td>\n",
       "      <td>1133.249</td>\n",
       "      <td>996.884826</td>\n",
       "      <td>136.364174</td>\n",
       "    </tr>\n",
       "    <tr>\n",
       "      <th>6</th>\n",
       "      <td>Cincinnati Enquirer</td>\n",
       "      <td>198.832</td>\n",
       "      <td>348.744</td>\n",
       "      <td>280.213795</td>\n",
       "      <td>68.530205</td>\n",
       "    </tr>\n",
       "    <tr>\n",
       "      <th>7</th>\n",
       "      <td>Denver Post</td>\n",
       "      <td>252.624</td>\n",
       "      <td>417.779</td>\n",
       "      <td>352.279731</td>\n",
       "      <td>65.499269</td>\n",
       "    </tr>\n",
       "    <tr>\n",
       "      <th>8</th>\n",
       "      <td>Des Moines Register</td>\n",
       "      <td>206.204</td>\n",
       "      <td>344.522</td>\n",
       "      <td>290.090172</td>\n",
       "      <td>54.431828</td>\n",
       "    </tr>\n",
       "    <tr>\n",
       "      <th>9</th>\n",
       "      <td>Hartford Courant</td>\n",
       "      <td>231.177</td>\n",
       "      <td>323.084</td>\n",
       "      <td>323.546868</td>\n",
       "      <td>-0.462868</td>\n",
       "    </tr>\n",
       "    <tr>\n",
       "      <th>10</th>\n",
       "      <td>Houston Chronicle</td>\n",
       "      <td>449.755</td>\n",
       "      <td>620.752</td>\n",
       "      <td>616.379041</td>\n",
       "      <td>4.372959</td>\n",
       "    </tr>\n",
       "    <tr>\n",
       "      <th>11</th>\n",
       "      <td>Kansas City Star</td>\n",
       "      <td>288.571</td>\n",
       "      <td>423.305</td>\n",
       "      <td>400.438457</td>\n",
       "      <td>22.866543</td>\n",
       "    </tr>\n",
       "    <tr>\n",
       "      <th>12</th>\n",
       "      <td>Los Angeles Daily  News</td>\n",
       "      <td>185.736</td>\n",
       "      <td>202.614</td>\n",
       "      <td>262.668890</td>\n",
       "      <td>-60.054890</td>\n",
       "    </tr>\n",
       "    <tr>\n",
       "      <th>13</th>\n",
       "      <td>Los Angeles Times</td>\n",
       "      <td>1164.388</td>\n",
       "      <td>1531.527</td>\n",
       "      <td>1573.783417</td>\n",
       "      <td>-42.256417</td>\n",
       "    </tr>\n",
       "    <tr>\n",
       "      <th>14</th>\n",
       "      <td>Miami Herald</td>\n",
       "      <td>444.581</td>\n",
       "      <td>553.479</td>\n",
       "      <td>609.447357</td>\n",
       "      <td>-55.968357</td>\n",
       "    </tr>\n",
       "    <tr>\n",
       "      <th>15</th>\n",
       "      <td>Minneapolis Star Tribune</td>\n",
       "      <td>412.871</td>\n",
       "      <td>685.975</td>\n",
       "      <td>566.965002</td>\n",
       "      <td>119.009998</td>\n",
       "    </tr>\n",
       "    <tr>\n",
       "      <th>16</th>\n",
       "      <td>New Orleans Times-Picayune</td>\n",
       "      <td>272.280</td>\n",
       "      <td>324.241</td>\n",
       "      <td>378.613164</td>\n",
       "      <td>-54.372164</td>\n",
       "    </tr>\n",
       "    <tr>\n",
       "      <th>17</th>\n",
       "      <td>New York Daily News</td>\n",
       "      <td>781.796</td>\n",
       "      <td>983.240</td>\n",
       "      <td>1061.219269</td>\n",
       "      <td>-77.979269</td>\n",
       "    </tr>\n",
       "    <tr>\n",
       "      <th>18</th>\n",
       "      <td>New York Times</td>\n",
       "      <td>1209.225</td>\n",
       "      <td>1762.015</td>\n",
       "      <td>1633.852208</td>\n",
       "      <td>128.162792</td>\n",
       "    </tr>\n",
       "    <tr>\n",
       "      <th>19</th>\n",
       "      <td>Newsday</td>\n",
       "      <td>825.512</td>\n",
       "      <td>960.308</td>\n",
       "      <td>1119.786239</td>\n",
       "      <td>-159.478239</td>\n",
       "    </tr>\n",
       "    <tr>\n",
       "      <th>20</th>\n",
       "      <td>Omaha World Herald</td>\n",
       "      <td>223.748</td>\n",
       "      <td>284.611</td>\n",
       "      <td>313.594128</td>\n",
       "      <td>-28.983128</td>\n",
       "    </tr>\n",
       "    <tr>\n",
       "      <th>21</th>\n",
       "      <td>Orange County Register</td>\n",
       "      <td>354.843</td>\n",
       "      <td>407.760</td>\n",
       "      <td>489.224034</td>\n",
       "      <td>-81.464034</td>\n",
       "    </tr>\n",
       "    <tr>\n",
       "      <th>22</th>\n",
       "      <td>Philadelphia Inquirer</td>\n",
       "      <td>515.523</td>\n",
       "      <td>982.663</td>\n",
       "      <td>704.489401</td>\n",
       "      <td>278.173599</td>\n",
       "    </tr>\n",
       "    <tr>\n",
       "      <th>23</th>\n",
       "      <td>Pittsburgh Press</td>\n",
       "      <td>220.465</td>\n",
       "      <td>557.000</td>\n",
       "      <td>309.195844</td>\n",
       "      <td>247.804156</td>\n",
       "    </tr>\n",
       "    <tr>\n",
       "      <th>24</th>\n",
       "      <td>Portland Oregonian</td>\n",
       "      <td>337.672</td>\n",
       "      <td>440.923</td>\n",
       "      <td>466.219792</td>\n",
       "      <td>-25.296792</td>\n",
       "    </tr>\n",
       "    <tr>\n",
       "      <th>25</th>\n",
       "      <td>Providence Journal-Bulletin</td>\n",
       "      <td>197.120</td>\n",
       "      <td>268.060</td>\n",
       "      <td>277.920203</td>\n",
       "      <td>-9.860203</td>\n",
       "    </tr>\n",
       "    <tr>\n",
       "      <th>26</th>\n",
       "      <td>Rochester Democrat &amp; Chronicle</td>\n",
       "      <td>133.239</td>\n",
       "      <td>262.048</td>\n",
       "      <td>192.337885</td>\n",
       "      <td>69.710115</td>\n",
       "    </tr>\n",
       "    <tr>\n",
       "      <th>27</th>\n",
       "      <td>Rocky Mountain News</td>\n",
       "      <td>374.009</td>\n",
       "      <td>432.502</td>\n",
       "      <td>514.901007</td>\n",
       "      <td>-82.399007</td>\n",
       "    </tr>\n",
       "    <tr>\n",
       "      <th>28</th>\n",
       "      <td>Sacramento Bee</td>\n",
       "      <td>273.844</td>\n",
       "      <td>338.355</td>\n",
       "      <td>380.708478</td>\n",
       "      <td>-42.353478</td>\n",
       "    </tr>\n",
       "    <tr>\n",
       "      <th>29</th>\n",
       "      <td>San Francisco Chronicle</td>\n",
       "      <td>570.364</td>\n",
       "      <td>704.322</td>\n",
       "      <td>777.960698</td>\n",
       "      <td>-73.638698</td>\n",
       "    </tr>\n",
       "    <tr>\n",
       "      <th>30</th>\n",
       "      <td>St. Louis Post-Dispatch</td>\n",
       "      <td>391.286</td>\n",
       "      <td>585.681</td>\n",
       "      <td>538.047259</td>\n",
       "      <td>47.633741</td>\n",
       "    </tr>\n",
       "    <tr>\n",
       "      <th>31</th>\n",
       "      <td>St. Paul Pioneer Press</td>\n",
       "      <td>201.860</td>\n",
       "      <td>267.781</td>\n",
       "      <td>284.270451</td>\n",
       "      <td>-16.489451</td>\n",
       "    </tr>\n",
       "    <tr>\n",
       "      <th>32</th>\n",
       "      <td>Tampa Tribune</td>\n",
       "      <td>321.626</td>\n",
       "      <td>408.343</td>\n",
       "      <td>444.722729</td>\n",
       "      <td>-36.379729</td>\n",
       "    </tr>\n",
       "    <tr>\n",
       "      <th>33</th>\n",
       "      <td>Washington Post</td>\n",
       "      <td>838.902</td>\n",
       "      <td>1165.567</td>\n",
       "      <td>1137.725020</td>\n",
       "      <td>27.841980</td>\n",
       "    </tr>\n",
       "  </tbody>\n",
       "</table>\n",
       "</div>"
      ],
      "text/plain": [
       "                         Newspaper     daily    sunday        Y_hat  \\\n",
       "0                    Baltimore Sun   391.952   488.506   538.939509   \n",
       "1                     Boston Globe   516.981   798.298   706.442705   \n",
       "2                    Boston Herald   355.628   235.084   490.275710   \n",
       "3               Charlotte Observer   238.555   299.451   333.431284   \n",
       "4                Chicago Sun Times   537.780   559.093   734.307432   \n",
       "5                  Chicago Tribune   733.775  1133.249   996.884826   \n",
       "6              Cincinnati Enquirer   198.832   348.744   280.213795   \n",
       "7                      Denver Post   252.624   417.779   352.279731   \n",
       "8              Des Moines Register   206.204   344.522   290.090172   \n",
       "9                 Hartford Courant   231.177   323.084   323.546868   \n",
       "10               Houston Chronicle   449.755   620.752   616.379041   \n",
       "11                Kansas City Star   288.571   423.305   400.438457   \n",
       "12         Los Angeles Daily  News   185.736   202.614   262.668890   \n",
       "13               Los Angeles Times  1164.388  1531.527  1573.783417   \n",
       "14                    Miami Herald   444.581   553.479   609.447357   \n",
       "15        Minneapolis Star Tribune   412.871   685.975   566.965002   \n",
       "16      New Orleans Times-Picayune   272.280   324.241   378.613164   \n",
       "17             New York Daily News   781.796   983.240  1061.219269   \n",
       "18                  New York Times  1209.225  1762.015  1633.852208   \n",
       "19                         Newsday   825.512   960.308  1119.786239   \n",
       "20              Omaha World Herald   223.748   284.611   313.594128   \n",
       "21          Orange County Register   354.843   407.760   489.224034   \n",
       "22           Philadelphia Inquirer   515.523   982.663   704.489401   \n",
       "23                Pittsburgh Press   220.465   557.000   309.195844   \n",
       "24              Portland Oregonian   337.672   440.923   466.219792   \n",
       "25     Providence Journal-Bulletin   197.120   268.060   277.920203   \n",
       "26  Rochester Democrat & Chronicle   133.239   262.048   192.337885   \n",
       "27             Rocky Mountain News   374.009   432.502   514.901007   \n",
       "28                  Sacramento Bee   273.844   338.355   380.708478   \n",
       "29         San Francisco Chronicle   570.364   704.322   777.960698   \n",
       "30         St. Louis Post-Dispatch   391.286   585.681   538.047259   \n",
       "31          St. Paul Pioneer Press   201.860   267.781   284.270451   \n",
       "32                   Tampa Tribune   321.626   408.343   444.722729   \n",
       "33                 Washington Post   838.902  1165.567  1137.725020   \n",
       "\n",
       "     residuals  \n",
       "0   -50.433509  \n",
       "1    91.855295  \n",
       "2  -255.191710  \n",
       "3   -33.980284  \n",
       "4  -175.214432  \n",
       "5   136.364174  \n",
       "6    68.530205  \n",
       "7    65.499269  \n",
       "8    54.431828  \n",
       "9    -0.462868  \n",
       "10    4.372959  \n",
       "11   22.866543  \n",
       "12  -60.054890  \n",
       "13  -42.256417  \n",
       "14  -55.968357  \n",
       "15  119.009998  \n",
       "16  -54.372164  \n",
       "17  -77.979269  \n",
       "18  128.162792  \n",
       "19 -159.478239  \n",
       "20  -28.983128  \n",
       "21  -81.464034  \n",
       "22  278.173599  \n",
       "23  247.804156  \n",
       "24  -25.296792  \n",
       "25   -9.860203  \n",
       "26   69.710115  \n",
       "27  -82.399007  \n",
       "28  -42.353478  \n",
       "29  -73.638698  \n",
       "30   47.633741  \n",
       "31  -16.489451  \n",
       "32  -36.379729  \n",
       "33   27.841980  "
      ]
     },
     "execution_count": 144,
     "metadata": {},
     "output_type": "execute_result"
    }
   ],
   "source": [
    "data1[\"residuals\"]= data1[\"sunday\"]-data1[\"Y_hat\"]\n",
    "data1"
   ]
  },
  {
   "cell_type": "markdown",
   "metadata": {},
   "source": [
    "### Performance Metrics:\n",
    "\n",
    "Linear regression models are evaluated using various performance metrics to assess the accuracy and efficiency of the model in capturing the relationship between the dependent and independent variables. \n",
    "\n",
    "1. **Mean Absolute Error (MAE)**: This metric measures the average magnitude of the errors in a set of predictions, without considering their direction. It's the average over the test sample of the absolute differences between prediction and actual observation where all individual differences have equal weight.\n",
    "  $$\\text{MAE} = \\frac{1}{n} \\sum_{i=1}^n \\left| y_i - \\hat{y}_i \\right|$$\n",
    "\n",
    "\n",
    "2. **Mean Squared Error (MSE)**: This metric measures the average of the squares of the errors—that is, the average squared difference between the estimated values and the actual value.\n",
    "   $$\\text{MSE} = \\frac{1}{n} \\sum_{i=1}^n (y_i - \\hat{y}_i)^2$$\n",
    "\n",
    "\n",
    "3. **Root Mean Squared Error (RMSE)**: This is the square root of the mean of the squared errors. RMSE is a good measure of how accurately the model predicts the response, and it is the most important criterion for fit if the main purpose of the model is prediction.\n",
    "   $$\\text{RMSE} = \\sqrt{\\frac{1}{n} \\sum_{i=1}^n (y_i - \\hat{y}_i)^2}$$\n",
    "\n",
    "4. **R-squared (Coefficient of Determination)**: This metric provides an indication of goodness of fit and therefore a measure of how well unseen samples are likely to be predicted by the model, through the proportion of explained variance.\n",
    "   $$R^2 = 1 - \\frac{\\sum_{i=1}^n (y_i - \\hat{y}_i)^2}{\\sum_{i=1}^n (y_i - \\bar{y})^2}$$\n",
    "\n",
    "\n",
    "5. **Adjusted R-squared**: This metric adjusts the R-squared value for the number of predictors in a model. It is used to determine if the addition of new predictors enhances the model or not.\n",
    "   $$\\text{Adjusted } R^2 = 1 - \\left(\\frac{(1-R^2)(n-1)}{n-k-1}\\right)$$\n",
    "\n",
    "   where n is the number of observations and k is the number of predictors.\n",
    "   \n",
    "6. ** Mean Absolute Percentage Error**:This formula calculates the average of the absolute percentage differences between the observed actual outcomes and the predictions made by the model.\n",
    "$$\\text{MAPE} = \\frac{100\\%}{n} \\sum_{i=1}^n \\left| \\frac{y_i - \\hat{y}_i}{y_i} \\right|$$\n"
   ]
  },
  {
   "cell_type": "code",
   "execution_count": 147,
   "metadata": {},
   "outputs": [
    {
     "name": "stdout",
     "output_type": "stream",
     "text": [
      "MSE:  33794.87469205249\n",
      "RMSE:  183.833823580027\n"
     ]
    }
   ],
   "source": [
    "# Compute Mean Squared Error for the model\n",
    "\n",
    "import numpy as np\n",
    "mse = np.mean((data1[\"daily\"]-data1[\"Y_hat\"])**2)\n",
    "rmse = np.sqrt(mse)\n",
    "print(\"MSE: \",mse)\n",
    "print(\"RMSE: \",rmse)"
   ]
  },
  {
   "cell_type": "code",
   "execution_count": 149,
   "metadata": {},
   "outputs": [
    {
     "data": {
      "text/plain": [
       "160.23994117647018"
      ]
     },
     "execution_count": 149,
     "metadata": {},
     "output_type": "execute_result"
    }
   ],
   "source": [
    "# Compute Mean Absolute Error (MAE)\n",
    "mae = np.mean(np.abs(data1[\"daily\"]-data1[\"Y_hat\"]))\n",
    "mae"
   ]
  },
  {
   "cell_type": "code",
   "execution_count": 151,
   "metadata": {},
   "outputs": [
    {
     "data": {
      "text/plain": [
       "38.271119285529565"
      ]
     },
     "execution_count": 151,
     "metadata": {},
     "output_type": "execute_result"
    }
   ],
   "source": [
    "mape = np.mean((np.abs(data1[\"daily\"]-data1[\"Y_hat\"])/data1[\"daily\"]))*100\n",
    "mape"
   ]
  },
  {
   "cell_type": "markdown",
   "metadata": {},
   "source": [
    "### Checking the model "
   ]
  },
  {
   "cell_type": "code",
   "execution_count": 154,
   "metadata": {},
   "outputs": [
    {
     "data": {
      "text/plain": [
       "<matplotlib.collections.PathCollection at 0x154a2cf80>"
      ]
     },
     "execution_count": 154,
     "metadata": {},
     "output_type": "execute_result"
    },
    {
     "data": {
      "image/png": "[encoded data removed]",
      "text/plain": [
       "<Figure size 640x480 with 1 Axes>"
      ]
     },
     "metadata": {},
     "output_type": "display_data"
    }
   ],
   "source": [
    "# Plot the residuals versus y_hat (to check wheather residuals are independent of each other)\n",
    "plt.scatter(data1[\"Y_hat\"], data1[\"residuals\"])"
   ]
  },
  {
   "cell_type": "code",
   "execution_count": 156,
   "metadata": {},
   "outputs": [
    {
     "data": {
      "image/png": "[encoded data removed]",
      "text/plain": [
       "<Figure size 640x480 with 1 Axes>"
      ]
     },
     "metadata": {},
     "output_type": "display_data"
    }
   ],
   "source": [
    "# Plot the Q-Q plot (to check the normality of residuals)\n",
    "import statsmodels.api as sm\n",
    "sm.qqplot(data1[\"residuals\"], line='45', fit=True)\n",
    "plt.show()"
   ]
  },
  {
   "cell_type": "code",
   "execution_count": 158,
   "metadata": {},
   "outputs": [
    {
     "data": {
      "text/plain": [
       "<Axes: xlabel='residuals', ylabel='Count'>"
      ]
     },
     "execution_count": 158,
     "metadata": {},
     "output_type": "execute_result"
    },
    {
     "data": {
      "image/png": "[encoded data removed]",
      "text/plain": [
       "<Figure size 640x480 with 1 Axes>"
      ]
     },
     "metadata": {},
     "output_type": "display_data"
    }
   ],
   "source": [
    "sns.histplot(data1[\"residuals\"], kde =True)"
   ]
  },
  {
   "cell_type": "code",
   "execution_count": 160,
   "metadata": {},
   "outputs": [
    {
     "data": {
      "image/png": "[encoded data removed]",
      "text/plain": [
       "<Figure size 600x300 with 1 Axes>"
      ]
     },
     "metadata": {},
     "output_type": "display_data"
    }
   ],
   "source": [
    "# Boxplot for daily column\n",
    "\n",
    "plt.figure(figsize=(6,3))\n",
    "plt.title(\"Box plot for Daily Sales\")\n",
    "plt.boxplot(data1[\"daily\"], vert = False)\n",
    "plt.show()"
   ]
  },
  {
   "cell_type": "code",
   "execution_count": 166,
   "metadata": {},
   "outputs": [
    {
     "data": {
      "image/png": "[encoded data removed]",
      "text/plain": [
       "<Figure size 640x480 with 1 Axes>"
      ]
     },
     "metadata": {},
     "output_type": "display_data"
    }
   ],
   "source": [
    "x= data1[\"daily\"]\n",
    "y = data1[\"sunday\"]\n",
    "plt.scatter(data1[\"daily\"], data1[\"sunday\"])\n",
    "plt.xlim(0, max(x) + 100)\n",
    "plt.ylim(0, max(y) + 100)\n",
    "plt.show()"
   ]
  },
  {
   "cell_type": "code",
   "execution_count": 168,
   "metadata": {},
   "outputs": [
    {
     "data": {
      "text/plain": [
       "0.9581543140785462"
      ]
     },
     "execution_count": 168,
     "metadata": {},
     "output_type": "execute_result"
    }
   ],
   "source": [
    "data1[\"daily\"].corr(data1[\"sunday\"])"
   ]
  },
  {
   "cell_type": "code",
   "execution_count": 170,
   "metadata": {},
   "outputs": [
    {
     "data": {
      "text/html": [
       "<div>\n",
       "<style scoped>\n",
       "    .dataframe tbody tr th:only-of-type {\n",
       "        vertical-align: middle;\n",
       "    }\n",
       "\n",
       "    .dataframe tbody tr th {\n",
       "        vertical-align: top;\n",
       "    }\n",
       "\n",
       "    .dataframe thead th {\n",
       "        text-align: right;\n",
       "    }\n",
       "</style>\n",
       "<table border=\"1\" class=\"dataframe\">\n",
       "  <thead>\n",
       "    <tr style=\"text-align: right;\">\n",
       "      <th></th>\n",
       "      <th>daily</th>\n",
       "      <th>sunday</th>\n",
       "    </tr>\n",
       "  </thead>\n",
       "  <tbody>\n",
       "    <tr>\n",
       "      <th>daily</th>\n",
       "      <td>1.000000</td>\n",
       "      <td>0.958154</td>\n",
       "    </tr>\n",
       "    <tr>\n",
       "      <th>sunday</th>\n",
       "      <td>0.958154</td>\n",
       "      <td>1.000000</td>\n",
       "    </tr>\n",
       "  </tbody>\n",
       "</table>\n",
       "</div>"
      ],
      "text/plain": [
       "           daily    sunday\n",
       "daily   1.000000  0.958154\n",
       "sunday  0.958154  1.000000"
      ]
     },
     "execution_count": 170,
     "metadata": {},
     "output_type": "execute_result"
    }
   ],
   "source": [
    "data1[[\"daily\",\"sunday\"]].corr()"
   ]
  },
  {
   "cell_type": "code",
   "execution_count": 172,
   "metadata": {},
   "outputs": [
    {
     "ename": "ModuleNotFoundError",
     "evalue": "No module named 'startsmodels'",
     "output_type": "error",
     "traceback": [
      "\u001b[0;31m---------------------------------------------------------------------------\u001b[0m",
      "\u001b[0;31mModuleNotFoundError\u001b[0m                       Traceback (most recent call last)",
      "Cell \u001b[0;32mIn[172], line 1\u001b[0m\n\u001b[0;32m----> 1\u001b[0m \u001b[38;5;28;01mimport\u001b[39;00m \u001b[38;5;21;01mstartsmodels\u001b[39;00m\u001b[38;5;21;01m.\u001b[39;00m\u001b[38;5;21;01mformula\u001b[39;00m\u001b[38;5;21;01m.\u001b[39;00m\u001b[38;5;21;01mapi\u001b[39;00m \u001b[38;5;28;01mas\u001b[39;00m \u001b[38;5;21;01msnf\u001b[39;00m\n\u001b[1;32m      2\u001b[0m model1\u001b[38;5;241m=\u001b[39m smf\u001b[38;5;241m.\u001b[39mols(\u001b[38;5;124m\"\u001b[39m\u001b[38;5;124msunday~daily\u001b[39m\u001b[38;5;124m\"\u001b[39m,data \u001b[38;5;241m=\u001b[39m data1)\u001b[38;5;241m.\u001b[39mfit()\n",
      "\u001b[0;31mModuleNotFoundError\u001b[0m: No module named 'startsmodels'"
     ]
    }
   ],
   "source": [
    "import startsmodels.formula.api as snf\n",
    "model1= smf.ols(\"sunday~daily\",data = data1).fit()"
   ]
  },
  {
   "cell_type": "code",
   "execution_count": null,
   "metadata": {},
   "outputs": [],
   "source": []
  },
  {
   "cell_type": "code",
   "execution_count": null,
   "metadata": {},
   "outputs": [],
   "source": []
  }
 ],
 "metadata": {
  "colab": {
   "provenance": []
  },
  "kernelspec": {
   "display_name": "Python [conda env:base] *",
   "language": "python",
   "name": "conda-base-py"
  },
  "language_info": {
   "codemirror_mode": {
    "name": "ipython",
    "version": 3
   },
   "file_extension": ".py",
   "mimetype": "text/x-python",
   "name": "python",
   "nbconvert_exporter": "python",
   "pygments_lexer": "ipython3",
   "version": "3.12.7"
  }
 },
 "nbformat": 4,
 "nbformat_minor": 4
}
